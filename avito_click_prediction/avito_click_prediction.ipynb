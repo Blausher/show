{
 "cells": [
  {
   "cell_type": "markdown",
   "id": "bf6b3c60",
   "metadata": {},
   "source": [
    "Лашманов Валентин"
   ]
  },
  {
   "cell_type": "markdown",
   "id": "ba62523c",
   "metadata": {},
   "source": [
    "## Скачиваем данные"
   ]
  },
  {
   "cell_type": "code",
   "execution_count": 6,
   "id": "71a3451b",
   "metadata": {},
   "outputs": [
    {
     "name": "stdout",
     "output_type": "stream",
     "text": [
      "Downloading AdsInfo.tsv.7z to /home/ubuntu\n",
      "100%|███████████████████████████████████████▉| 673M/674M [00:25<00:00, 30.9MB/s]\n",
      "100%|████████████████████████████████████████| 674M/674M [00:25<00:00, 27.7MB/s]\n"
     ]
    }
   ],
   "source": [
    "! kaggle competitions download -c avito-context-ad-clicks -f AdsInfo.tsv.7z"
   ]
  },
  {
   "cell_type": "code",
   "execution_count": 7,
   "id": "3071d916",
   "metadata": {},
   "outputs": [
    {
     "name": "stdout",
     "output_type": "stream",
     "text": [
      "Downloading Category.tsv.7z to /home/ubuntu\r\n",
      "  0%|                                                 | 0.00/479 [00:00<?, ?B/s]\r\n",
      "100%|███████████████████████████████████████████| 479/479 [00:00<00:00, 568kB/s]\r\n"
     ]
    }
   ],
   "source": [
    "! kaggle competitions download -c avito-context-ad-clicks -f Category.tsv.7z"
   ]
  },
  {
   "cell_type": "code",
   "execution_count": 8,
   "id": "a0efb41a",
   "metadata": {},
   "outputs": [
    {
     "name": "stdout",
     "output_type": "stream",
     "text": [
      "Downloading Location.tsv.7z to /home/ubuntu\n",
      "  0%|                                               | 0.00/17.1k [00:00<?, ?B/s]\n",
      "100%|███████████████████████████████████████| 17.1k/17.1k [00:00<00:00, 991kB/s]\n",
      "Downloading PhoneRequestsStream.tsv.7z to /home/ubuntu\n",
      "100%|███████████████████████████████████████▊| 112M/112M [00:04<00:00, 32.9MB/s]\n",
      "100%|████████████████████████████████████████| 112M/112M [00:04<00:00, 26.4MB/s]\n",
      "Downloading SearchInfo.tsv.7z to /home/ubuntu\n",
      "100%|█████████████████████████████████████▉| 1.69G/1.69G [01:01<00:00, 34.4MB/s]\n",
      "100%|██████████████████████████████████████| 1.69G/1.69G [01:01<00:00, 29.4MB/s]\n",
      "Downloading UserInfo.tsv.7z to /home/ubuntu\n",
      " 99%|█████████████████████████████████████▋| 12.0M/12.1M [00:01<00:00, 18.6MB/s]\n",
      "100%|██████████████████████████████████████| 12.1M/12.1M [00:01<00:00, 11.0MB/s]\n",
      "Downloading sampleSubmission.csv.7z to /home/ubuntu\n",
      " 82%|███████████████████████████████       | 4.00M/4.90M [00:00<00:00, 6.31MB/s]\n",
      "100%|██████████████████████████████████████| 4.90M/4.90M [00:00<00:00, 5.40MB/s]\n",
      "Downloading sampleSubmission_HistCTR.csv.7z to /home/ubuntu\n",
      "100%|█████████████████████████████████████▉| 29.0M/29.1M [00:01<00:00, 20.8MB/s]\n",
      "100%|██████████████████████████████████████| 29.1M/29.1M [00:01<00:00, 15.3MB/s]\n",
      "Downloading testSearchStream.tsv.7z to /home/ubuntu\n",
      " 98%|█████████████████████████████████████ | 95.0M/97.3M [00:03<00:00, 32.2MB/s]\n",
      "100%|██████████████████████████████████████| 97.3M/97.3M [00:04<00:00, 25.3MB/s]\n",
      "Downloading trainSearchStream.tsv.7z to /home/ubuntu\n",
      "100%|█████████████████████████████████████▉| 2.12G/2.12G [01:21<00:00, 25.9MB/s]\n",
      "100%|██████████████████████████████████████| 2.12G/2.12G [01:21<00:00, 28.0MB/s]\n"
     ]
    }
   ],
   "source": [
    "! kaggle competitions download -c avito-context-ad-clicks -f Location.tsv.7z\n",
    "! kaggle competitions download -c avito-context-ad-clicks -f PhoneRequestsStream.tsv.7z\n",
    "! kaggle competitions download -c avito-context-ad-clicks -f SearchInfo.tsv.7z\n",
    "! kaggle competitions download -c avito-context-ad-clicks -f UserInfo.tsv.7z\n",
    "! kaggle competitions download -c avito-context-ad-clicks -f sampleSubmission.csv.7z\n",
    "! kaggle competitions download -c avito-context-ad-clicks -f sampleSubmission_HistCTR.csv.7z\n",
    "! kaggle competitions download -c avito-context-ad-clicks -f testSearchStream.tsv.7z\n",
    "! kaggle competitions download -c avito-context-ad-clicks -f trainSearchStream.tsv.7z"
   ]
  },
  {
   "cell_type": "code",
   "execution_count": 12,
   "id": "d1ab5340",
   "metadata": {},
   "outputs": [
    {
     "name": "stdout",
     "output_type": "stream",
     "text": [
      "AdsInfo.tsv.7z\r\n",
      "Category.tsv.7z\r\n",
      "Location.tsv.7z\r\n",
      "PhoneRequestsStream.tsv.7z\r\n",
      "sampleSubmission.csv.7z\r\n",
      "sampleSubmission_HistCTR.csv.7z\r\n",
      "SearchInfo.tsv.7z\r\n",
      "testSearchStream.tsv.7z\r\n",
      "trainSearchStream.tsv.7z\r\n",
      "UserInfo.tsv.7z\r\n"
     ]
    }
   ],
   "source": [
    "! ls | grep -o '.*7z'"
   ]
  },
  {
   "cell_type": "code",
   "execution_count": 17,
   "id": "ba77e506",
   "metadata": {},
   "outputs": [
    {
     "name": "stdout",
     "output_type": "stream",
     "text": [
      "\n",
      "7-Zip (a) [64] 16.02 : Copyright (c) 1999-2016 Igor Pavlov : 2016-05-21\n",
      "p7zip Version 16.02 (locale=en_US.UTF-8,Utf16=on,HugeFiles=on,64 bits,2 CPUs Intel Xeon Processor (Icelake) (606A0),ASM,AES-NI)\n",
      "\n",
      "Scanning the drive for archives:\n",
      "  0M Sca        1 file, 706881374 bytes (675 MiB)\n",
      "\n",
      "Extracting archive: AdsInfo.tsv.7z\n",
      "--\n",
      "Path = AdsInfo.tsv.7z\n",
      "Type = 7z\n",
      "Physical Size = 706881374\n",
      "Headers Size = 126\n",
      "Method = LZMA:24\n",
      "Solid = -\n",
      "Blocks = 1\n",
      "\n",
      "      0% - AdsInfo.t                  1% - AdsInfo.t                  2% - AdsInfo.t                  3% - AdsInfo.t                  4% - AdsInfo.t                  5% - AdsInfo.t                  6% - AdsInfo.t                  7% - AdsInfo.t                  8% - AdsInfo.t                  9% - AdsInfo.t                 10% - AdsInfo.t                 11% - AdsInfo.t                 12% - AdsInfo.t                 13% - AdsInfo.t                 14% - AdsInfo.t                 15% - AdsInfo.t                 16% - AdsInfo.t                 17% - AdsInfo.t                 18% - AdsInfo.t                 19% - AdsInfo.t                 20% - AdsInfo.t                 21% - AdsInfo.t                 22% - AdsInfo.t                 23% - AdsInfo.t                 24% - AdsInfo.t                 25% - AdsInfo.t                 26% - AdsInfo.t                 27% - AdsInfo.t                 28% - AdsInfo.t                 29% - AdsInfo.t                 30% - AdsInfo.t                 31% - AdsInfo.t                 32% - AdsInfo.t                 33% - AdsInfo.t                 34% - AdsInfo.t                 35% - AdsInfo.t                 36% - AdsInfo.t                 37% - AdsInfo.t                 38% - AdsInfo.t                 39% - AdsInfo.t                 40% - AdsInfo.t                 41% - AdsInfo.t                 42% - AdsInfo.t                 43% - AdsInfo.t                 44% - AdsInfo.t                 45% - AdsInfo.t                 46% - AdsInfo.t                 47% - AdsInfo.t                 48% - AdsInfo.t                 49% - AdsInfo.t                 50% - AdsInfo.t                 51% - AdsInfo.t                 52% - AdsInfo.t                 53% - AdsInfo.t                 54% - AdsInfo.t                 55% - AdsInfo.t                 56% - AdsInfo.t                 57% - AdsInfo.t                 58% - AdsInfo.t                 59% - AdsInfo.t                 60% - AdsInfo.t                 61% - AdsInfo.t                 62% - AdsInfo.t                 63% - AdsInfo.t                 64% - AdsInfo.t                 65% - AdsInfo.t                 66% - AdsInfo.t                 67% - AdsInfo.t                 68% - AdsInfo.t                 69% - AdsInfo.t                 70% - AdsInfo.t                 71% - AdsInfo.t                 72% - AdsInfo.t                 73% - AdsInfo.t                 74% - AdsInfo.t                 75% - AdsInfo.t                 76% - AdsInfo.t                 77% - AdsInfo.t                 78% - AdsInfo.t                 79% - AdsInfo.t                 80% - AdsInfo.t                 81% - AdsInfo.t                 82% - AdsInfo.t                 83% - AdsInfo.t                 84% - AdsInfo.t                 85% - AdsInfo.t                 86% - AdsInfo.t                 87% - AdsInfo.t                 88% - AdsInfo.t                 89% - AdsInfo.t                 90% - AdsInfo.t                 91% - AdsInfo.t                 92% - AdsInfo.t                 93% - AdsInfo.t                 94% - AdsInfo.t                 95% - AdsInfo.t                 96% - AdsInfo.t                 97% - AdsInfo.t                 98% - AdsInfo.t                 99% - AdsInfo.t                100%    Everything is Ok\n",
      "\n",
      "Size:       5350670676\n",
      "Compressed: 706881374\n"
     ]
    }
   ],
   "source": [
    "! 7za x AdsInfo.tsv.7z"
   ]
  },
  {
   "cell_type": "code",
   "execution_count": 18,
   "id": "5070147a",
   "metadata": {},
   "outputs": [
    {
     "name": "stdout",
     "output_type": "stream",
     "text": [
      "\n",
      "7-Zip (a) [64] 16.02 : Copyright (c) 1999-2016 Igor Pavlov : 2016-05-21\n",
      "p7zip Version 16.02 (locale=en_US.UTF-8,Utf16=on,HugeFiles=on,64 bits,2 CPUs Intel Xeon Processor (Icelake) (606A0),ASM,AES-NI)\n",
      "\n",
      "Scanning the drive for archives:\n",
      "  0M Sca        1 file, 479 bytes (1 KiB)\n",
      "\n",
      "Extracting archive: Category.tsv.7z\n",
      "--\n",
      "Path = Category.tsv.7z\n",
      "Type = 7z\n",
      "Physical Size = 479\n",
      "Headers Size = 122\n",
      "Method = LZMA:16\n",
      "Solid = -\n",
      "Blocks = 1\n",
      "\n",
      "    Everything is Ok\n",
      "\n",
      "Size:       752\n",
      "Compressed: 479\n",
      "\n",
      "7-Zip (a) [64] 16.02 : Copyright (c) 1999-2016 Igor Pavlov : 2016-05-21\n",
      "p7zip Version 16.02 (locale=en_US.UTF-8,Utf16=on,HugeFiles=on,64 bits,2 CPUs Intel Xeon Processor (Icelake) (606A0),ASM,AES-NI)\n",
      "\n",
      "Scanning the drive for archives:\n",
      "  0M Sca        1 file, 17516 bytes (18 KiB)\n",
      "\n",
      "Extracting archive: Location.tsv.7z\n",
      "--\n",
      "Path = Location.tsv.7z\n",
      "Type = 7z\n",
      "Physical Size = 17516\n",
      "Headers Size = 124\n",
      "Method = LZMA:16\n",
      "Solid = -\n",
      "Blocks = 1\n",
      "\n",
      "    Everything is Ok\n",
      "\n",
      "Size:       58976\n",
      "Compressed: 17516\n",
      "\n",
      "7-Zip (a) [64] 16.02 : Copyright (c) 1999-2016 Igor Pavlov : 2016-05-21\n",
      "p7zip Version 16.02 (locale=en_US.UTF-8,Utf16=on,HugeFiles=on,64 bits,2 CPUs Intel Xeon Processor (Icelake) (606A0),ASM,AES-NI)\n",
      "\n",
      "Scanning the drive for archives:\n",
      "  0M Sca        1 file, 117908750 bytes (113 MiB)\n",
      "\n",
      "Extracting archive: PhoneRequestsStream.tsv.7z\n",
      "--\n",
      "Path = PhoneRequestsStream.tsv.7z\n",
      "Type = 7z\n",
      "Physical Size = 117908750\n",
      "Headers Size = 149\n",
      "Method = LZMA:24\n",
      "Solid = -\n",
      "Blocks = 1\n",
      "\n",
      "      1% - PhoneRequestsStream.t                              2% - PhoneRequestsStream.t                              3% - PhoneRequestsStream.t                              5% - PhoneRequestsStream.t                              7% - PhoneRequestsStream.t                              9% - PhoneRequestsStream.t                             11% - PhoneRequestsStream.t                             13% - PhoneRequestsStream.t                             15% - PhoneRequestsStream.t                             17% - PhoneRequestsStream.t                             19% - PhoneRequestsStream.t                             21% - PhoneRequestsStream.t                             23% - PhoneRequestsStream.t                             24% - PhoneRequestsStream.t                             26% - PhoneRequestsStream.t                             28% - PhoneRequestsStream.t                             30% - PhoneRequestsStream.t                             32% - PhoneRequestsStream.t                             33% - PhoneRequestsStream.t                             35% - PhoneRequestsStream.t                             37% - PhoneRequestsStream.t                             38% - PhoneRequestsStream.t                             40% - PhoneRequestsStream.t                             42% - PhoneRequestsStream.t                             43% - PhoneRequestsStream.t                             45% - PhoneRequestsStream.t                             47% - PhoneRequestsStream.t                             49% - PhoneRequestsStream.t                             51% - PhoneRequestsStream.t                             53% - PhoneRequestsStream.t                             55% - PhoneRequestsStream.t                             57% - PhoneRequestsStream.t                             59% - PhoneRequestsStream.t                             61% - PhoneRequestsStream.t                             62% - PhoneRequestsStream.t                             64% - PhoneRequestsStream.t                             65% - PhoneRequestsStream.t                             67% - PhoneRequestsStream.t                             69% - PhoneRequestsStream.t                             70% - PhoneRequestsStream.t                             72% - PhoneRequestsStream.t                             74% - PhoneRequestsStream.t                             75% - PhoneRequestsStream.t                             77% - PhoneRequestsStream.t                             79% - PhoneRequestsStream.t                             81% - PhoneRequestsStream.t                             83% - PhoneRequestsStream.t                             85% - PhoneRequestsStream.t                             86% - PhoneRequestsStream.t                             88% - PhoneRequestsStream.t                             90% - PhoneRequestsStream.t                             92% - PhoneRequestsStream.t                             94% - PhoneRequestsStream.t                             96% - PhoneRequestsStream.t                             97% - PhoneRequestsStream.t                             99% - PhoneRequestsStream.t                            Everything is Ok\n",
      "\n",
      "Size:       630319200\n",
      "Compressed: 117908750\n",
      "\n",
      "7-Zip (a) [64] 16.02 : Copyright (c) 1999-2016 Igor Pavlov : 2016-05-21\n",
      "p7zip Version 16.02 (locale=en_US.UTF-8,Utf16=on,HugeFiles=on,64 bits,2 CPUs Intel Xeon Processor (Icelake) (606A0),ASM,AES-NI)\n",
      "\n",
      "Scanning the drive for archives:\n",
      "  0M Sca        1 file, 5135671 bytes (5016 KiB)\n",
      "\n",
      "Extracting archive: sampleSubmission.csv.7z\n",
      "--\n",
      "Path = sampleSubmission.csv.7z\n",
      "Type = 7z\n",
      "Physical Size = 5135671\n",
      "Headers Size = 142\n",
      "Method = LZMA:24\n",
      "Solid = -\n",
      "Blocks = 1\n",
      "\n",
      "     15% - sampleSubmission.cs                           40% - sampleSubmission.cs                           62% - sampleSubmission.cs                           88% - sampleSubmission.cs                          Everything is Ok\n",
      "\n",
      "Size:       80537218\n",
      "Compressed: 5135671\n",
      "\n",
      "7-Zip (a) [64] 16.02 : Copyright (c) 1999-2016 Igor Pavlov : 2016-05-21\n",
      "p7zip Version 16.02 (locale=en_US.UTF-8,Utf16=on,HugeFiles=on,64 bits,2 CPUs Intel Xeon Processor (Icelake) (606A0),ASM,AES-NI)\n",
      "\n",
      "Scanning the drive for archives:\n",
      "  0M Sca        1 file, 30491438 bytes (30 MiB)\n",
      "\n",
      "Extracting archive: sampleSubmission_HistCTR.csv.7z\n",
      "--\n",
      "Path = sampleSubmission_HistCTR.csv.7z\n",
      "Type = 7z\n",
      "Physical Size = 30491438\n",
      "Headers Size = 158\n",
      "Method = LZMA:24\n",
      "Solid = -\n",
      "Blocks = 1\n",
      "\n",
      "      5% - sampleSubmission_HistCTR.cs                                   10% - sampleSubmission_HistCTR.cs                                   18% - sampleSubmission_HistCTR.cs                                   26% - sampleSubmission_HistCTR.cs                                   31% - sampleSubmission_HistCTR.cs                                   39% - sampleSubmission_HistCTR.cs                                   44% - sampleSubmission_HistCTR.cs                                   52% - sampleSubmission_HistCTR.cs                                   60% - sampleSubmission_HistCTR.cs                                   68% - sampleSubmission_HistCTR.cs                                   73% - sampleSubmission_HistCTR.cs                                   81% - sampleSubmission_HistCTR.cs                                   89% - sampleSubmission_HistCTR.cs                                   94% - sampleSubmission_HistCTR.cs                                  Everything is Ok\n",
      "\n",
      "Size:       160087206\n",
      "Compressed: 30491438\n",
      "\n",
      "7-Zip (a) [64] 16.02 : Copyright (c) 1999-2016 Igor Pavlov : 2016-05-21\n",
      "p7zip Version 16.02 (locale=en_US.UTF-8,Utf16=on,HugeFiles=on,64 bits,2 CPUs Intel Xeon Processor (Icelake) (606A0),ASM,AES-NI)\n",
      "\n",
      "Scanning the drive for archives:\n",
      "  0M Sca        1 file, 1813431506 bytes (1730 MiB)\n",
      "\n",
      "Extracting archive: SearchInfo.tsv.7z\n",
      "--\n",
      "Path = SearchInfo.tsv.7z\n",
      "Type = 7z\n",
      "Physical Size = 1813431506\n",
      "Headers Size = 132\n",
      "Method = LZMA:24\n",
      "Solid = -\n",
      "Blocks = 1\n",
      "\n",
      "      0% - SearchInfo.ts                      1% - SearchInfo.ts                      2% - SearchInfo.ts                      3% - SearchInfo.ts                      4% - SearchInfo.ts                      5% - SearchInfo.ts                      6% - SearchInfo.ts                      7% - SearchInfo.ts                      8% - SearchInfo.ts                      9% - SearchInfo.ts                     10% - SearchInfo.ts                     11% - SearchInfo.ts                     12% - SearchInfo.ts                     13% - SearchInfo.ts                     14% - SearchInfo.ts                     15% - SearchInfo.ts                     16% - SearchInfo.ts                     17% - SearchInfo.ts                     18% - SearchInfo.ts                     19% - SearchInfo.ts                     20% - SearchInfo.ts                     21% - SearchInfo.ts                     22% - SearchInfo.ts                     23% - SearchInfo.ts                     24% - SearchInfo.ts                     25% - SearchInfo.ts                     26% - SearchInfo.ts                     27% - SearchInfo.ts                     28% - SearchInfo.ts                     29% - SearchInfo.ts                     30% - SearchInfo.ts                     31% - SearchInfo.ts                     32% - SearchInfo.ts                     33% - SearchInfo.ts                     34% - SearchInfo.ts                     35% - SearchInfo.ts                     36% - SearchInfo.ts                     37% - SearchInfo.ts                     38% - SearchInfo.ts                     39% - SearchInfo.ts                     40% - SearchInfo.ts                     41% - SearchInfo.ts                     42% - SearchInfo.ts                     43% - SearchInfo.ts                     44% - SearchInfo.ts                     45% - SearchInfo.ts                     46% - SearchInfo.ts                     47% - SearchInfo.ts                     48% - SearchInfo.ts                     49% - SearchInfo.ts                     50% - SearchInfo.ts                     51% - SearchInfo.ts                     52% - SearchInfo.ts                     53% - SearchInfo.ts                     54% - SearchInfo.ts                     55% - SearchInfo.ts                     56% - SearchInfo.ts                     57% - SearchInfo.ts                     58% - SearchInfo.ts                     59% - SearchInfo.ts                     60% - SearchInfo.ts                     61% - SearchInfo.ts                     62% - SearchInfo.ts                     63% - SearchInfo.ts                     64% - SearchInfo.ts                     65% - SearchInfo.ts                     66% - SearchInfo.ts                     67% - SearchInfo.ts                     68% - SearchInfo.ts                     69% - SearchInfo.ts                     70% - SearchInfo.ts                     71% - SearchInfo.ts                     72% - SearchInfo.ts                     73% - SearchInfo.ts                     74% - SearchInfo.ts                     75% - SearchInfo.ts                     76% - SearchInfo.ts                     77% - SearchInfo.ts                     78% - SearchInfo.ts                     79% - SearchInfo.ts                     80% - SearchInfo.ts                     81% - SearchInfo.ts                     82% - SearchInfo.ts                     83% - SearchInfo.ts                     84% - SearchInfo.ts                     85% - SearchInfo.ts                     86% - SearchInfo.ts                     87% - SearchInfo.ts                     88% - SearchInfo.ts                     89% - SearchInfo.ts                     90% - SearchInfo.ts                     91% - SearchInfo.ts                     92% - SearchInfo.ts                     93% - SearchInfo.ts                     94% - SearchInfo.ts                     95% - SearchInfo.ts                     96% - SearchInfo.ts                     97% - SearchInfo.ts                     98% - SearchInfo.ts                     99% - SearchInfo.ts                    100%    Everything is Ok\n",
      "\n",
      "Size:       9469373867\n",
      "Compressed: 1813431506\n",
      "\n",
      "7-Zip (a) [64] 16.02 : Copyright (c) 1999-2016 Igor Pavlov : 2016-05-21\n",
      "p7zip Version 16.02 (locale=en_US.UTF-8,Utf16=on,HugeFiles=on,64 bits,2 CPUs Intel Xeon Processor (Icelake) (606A0),ASM,AES-NI)\n",
      "\n",
      "Scanning the drive for archives:\n",
      "  0M Sca        1 file, 102000231 bytes (98 MiB)\n",
      "\n",
      "Extracting archive: testSearchStream.tsv.7z\n",
      "--\n",
      "Path = testSearchStream.tsv.7z\n",
      "Type = 7z\n",
      "Physical Size = 102000231\n",
      "Headers Size = 143\n",
      "Method = LZMA:24\n",
      "Solid = -\n",
      "Blocks = 1\n",
      "\n",
      "      0% - testSearchStream.ts                            2% - testSearchStream.ts                            3% - testSearchStream.ts                            6% - testSearchStream.ts                            7% - testSearchStream.ts                            9% - testSearchStream.ts                           11% - testSearchStream.ts                           12% - testSearchStream.ts                           15% - testSearchStream.ts                           17% - testSearchStream.ts                           19% - testSearchStream.ts                           21% - testSearchStream.ts                           24% - testSearchStream.ts                           26% - testSearchStream.ts                           28% - testSearchStream.ts                           30% - testSearchStream.ts                           31% - testSearchStream.ts                           33% - testSearchStream.ts                           35% - testSearchStream.ts                           37% - testSearchStream.ts                           39% - testSearchStream.ts                           42% - testSearchStream.ts                           44% - testSearchStream.ts                           45% - testSearchStream.ts                           47% - testSearchStream.ts                           49% - testSearchStream.ts                           51% - testSearchStream.ts                           54% - testSearchStream.ts                           55% - testSearchStream.ts                           57% - testSearchStream.ts                           60% - testSearchStream.ts                           62% - testSearchStream.ts                           63% - testSearchStream.ts                           66% - testSearchStream.ts                           68% - testSearchStream.ts                           70% - testSearchStream.ts                           72% - testSearchStream.ts                           74% - testSearchStream.ts                           77% - testSearchStream.ts                           78% - testSearchStream.ts                           81% - testSearchStream.ts                           83% - testSearchStream.ts                           85% - testSearchStream.ts                           87% - testSearchStream.ts                           90% - testSearchStream.ts                           92% - testSearchStream.ts                           93% - testSearchStream.ts                           95% - testSearchStream.ts                           97% - testSearchStream.ts                          Everything is Ok\n",
      "\n",
      "Size:       557829937\n",
      "Compressed: 102000231\n",
      "\n",
      "7-Zip (a) [64] 16.02 : Copyright (c) 1999-2016 Igor Pavlov : 2016-05-21\n",
      "p7zip Version 16.02 (locale=en_US.UTF-8,Utf16=on,HugeFiles=on,64 bits,2 CPUs Intel Xeon Processor (Icelake) (606A0),ASM,AES-NI)\n",
      "\n",
      "Scanning the drive for archives:\n",
      "  0M Sca        1 file, 2277264844 bytes (2172 MiB)\n",
      "\n",
      "Extracting archive: trainSearchStream.tsv.7z\n",
      "--\n",
      "Path = trainSearchStream.tsv.7z\n",
      "Type = 7z\n",
      "Physical Size = 2277264844\n",
      "Headers Size = 146\n",
      "Method = LZMA:24\n",
      "Solid = -\n",
      "Blocks = 1\n",
      "\n",
      "      0% - trainSearchStream.t                            1% - trainSearchStream.t                            2% - trainSearchStream.t                            3% - trainSearchStream.t                            4% - trainSearchStream.t                            5% - trainSearchStream.t                            6% - trainSearchStream.t                            7% - trainSearchStream.t                            8% - trainSearchStream.t                            9% - trainSearchStream.t                           10% - trainSearchStream.t                           11% - trainSearchStream.t                           12% - trainSearchStream.t                           13% - trainSearchStream.t                           14% - trainSearchStream.t                           15% - trainSearchStream.t                           16% - trainSearchStream.t                           17% - trainSearchStream.t                           18% - trainSearchStream.t                           19% - trainSearchStream.t                           20% - trainSearchStream.t                           21% - trainSearchStream.t                           22% - trainSearchStream.t                           23% - trainSearchStream.t                           24% - trainSearchStream.t                           25% - trainSearchStream.t                           26% - trainSearchStream.t                           27% - trainSearchStream.t                           28% - trainSearchStream.t                           29% - trainSearchStream.t                           30% - trainSearchStream.t                           31% - trainSearchStream.t                           32% - trainSearchStream.t                           33% - trainSearchStream.t                           34% - trainSearchStream.t                           35% - trainSearchStream.t                           36% - trainSearchStream.t                           37% - trainSearchStream.t                           38% - trainSearchStream.t                           39% - trainSearchStream.t                           40% - trainSearchStream.t                           41% - trainSearchStream.t                           42% - trainSearchStream.t                           43% - trainSearchStream.t                           44% - trainSearchStream.t                           45% - trainSearchStream.t                           46% - trainSearchStream.t                           47% - trainSearchStream.t                           48% - trainSearchStream.t                           49% - trainSearchStream.t                           50% - trainSearchStream.t                           51% - trainSearchStream.t                           52% - trainSearchStream.t                           53% - trainSearchStream.t                           54% - trainSearchStream.t                           55% - trainSearchStream.t                           56% - trainSearchStream.t                           57% - trainSearchStream.t                           58% - trainSearchStream.t                           59% - trainSearchStream.t                           60% - trainSearchStream.t                           61% - trainSearchStream.t                           62% - trainSearchStream.t                           63% - trainSearchStream.t                           64% - trainSearchStream.t                           65% - trainSearchStream.t                           66% - trainSearchStream.t                           67% - trainSearchStream.t                           68% - trainSearchStream.t                           69% - trainSearchStream.t                           70% - trainSearchStream.t                           71% - trainSearchStream.t                           72% - trainSearchStream.t                           73% - trainSearchStream.t                           74% - trainSearchStream.t                           75% - trainSearchStream.t                           76% - trainSearchStream.t                           77% - trainSearchStream.t                           78% - trainSearchStream.t                           79% - trainSearchStream.t                           80% - trainSearchStream.t                           81% - trainSearchStream.t                           82% - trainSearchStream.t                           83% - trainSearchStream.t                           84% - trainSearchStream.t                           85% - trainSearchStream.t                           86% - trainSearchStream.t                           87% - trainSearchStream.t                           88% - trainSearchStream.t                           89% - trainSearchStream.t                           90% - trainSearchStream.t                           91% - trainSearchStream.t                           92% - trainSearchStream.t                           93% - trainSearchStream.t                           94% - trainSearchStream.t                           95% - trainSearchStream.t                           96% - trainSearchStream.t                           97% - trainSearchStream.t                           98% - trainSearchStream.t                           99% - trainSearchStream.t                          100%    Everything is Ok\n",
      "\n",
      "Size:       11023566785\n",
      "Compressed: 2277264844\n",
      "\n",
      "7-Zip (a) [64] 16.02 : Copyright (c) 1999-2016 Igor Pavlov : 2016-05-21\n",
      "p7zip Version 16.02 (locale=en_US.UTF-8,Utf16=on,HugeFiles=on,64 bits,2 CPUs Intel Xeon Processor (Icelake) (606A0),ASM,AES-NI)\n",
      "\n",
      "Scanning the drive for archives:\n",
      "  0M Sca        1 file, 12681881 bytes (13 MiB)\n",
      "\n",
      "Extracting archive: UserInfo.tsv.7z\n",
      "--\n",
      "Path = UserInfo.tsv.7z\n",
      "Type = 7z\n",
      "Physical Size = 12681881\n",
      "Headers Size = 126\n",
      "Method = LZMA:24\n",
      "Solid = -\n",
      "Blocks = 1\n",
      "\n",
      "      7% - UserInfo.ts                   20% - UserInfo.ts                   36% - UserInfo.ts                   52% - UserInfo.ts                   68% - UserInfo.ts                   76% - UserInfo.ts                   92% - UserInfo.ts                  Everything is Ok\n",
      "\n",
      "Size:       104614699\n",
      "Compressed: 12681881\n"
     ]
    }
   ],
   "source": [
    "! 7za x Category.tsv.7z\n",
    "! 7za x Location.tsv.7z\n",
    "! 7za x PhoneRequestsStream.tsv.7z\n",
    "! 7za x sampleSubmission.csv.7z\n",
    "! 7za x sampleSubmission_HistCTR.csv.7z\n",
    "! 7za x SearchInfo.tsv.7z\n",
    "! 7za x testSearchStream.tsv.7z\n",
    "! 7za x trainSearchStream.tsv.7z\n",
    "! 7za x UserInfo.tsv.7z"
   ]
  },
  {
   "cell_type": "code",
   "execution_count": 1,
   "id": "a0577b70",
   "metadata": {},
   "outputs": [
    {
     "data": {
      "text/plain": [
       "1"
      ]
     },
     "execution_count": 1,
     "metadata": {},
     "output_type": "execute_result"
    }
   ],
   "source": [
    "1"
   ]
  },
  {
   "cell_type": "code",
   "execution_count": 21,
   "id": "0fbe30fe",
   "metadata": {},
   "outputs": [
    {
     "name": "stdout",
     "output_type": "stream",
     "text": [
      "Found 2 items\r\n",
      "drwxr-xr-x   - hive   hadoop          0 2024-03-15 11:33 /user/hive\r\n",
      "drwxr-xr-x   - ubuntu hadoop          0 2024-03-15 14:35 /user/hw3\r\n"
     ]
    }
   ],
   "source": [
    "! hdfs dfs -ls /user/"
   ]
  },
  {
   "cell_type": "code",
   "execution_count": 22,
   "id": "da569c1c",
   "metadata": {},
   "outputs": [],
   "source": [
    "! hdfs dfs -mkdir -p /user/hw3_small_vw"
   ]
  },
  {
   "cell_type": "code",
   "execution_count": 25,
   "id": "500a555c",
   "metadata": {},
   "outputs": [
    {
     "name": "stdout",
     "output_type": "stream",
     "text": [
      "2024-03-15 16:48:26,793 INFO impl.MetricsConfig: Loaded properties from hadoop-metrics2.properties\n",
      "2024-03-15 16:48:27,058 INFO impl.MetricsSystemImpl: Scheduled Metric snapshot period at 10 second(s).\n",
      "2024-03-15 16:48:27,058 INFO impl.MetricsSystemImpl: s3a-file-system metrics system started\n",
      "2024-03-15 16:51:16,969 INFO impl.MetricsSystemImpl: Stopping s3a-file-system metrics system...\n",
      "2024-03-15 16:51:16,969 INFO impl.MetricsSystemImpl: s3a-file-system metrics system stopped.\n",
      "2024-03-15 16:51:16,969 INFO impl.MetricsSystemImpl: s3a-file-system metrics system shutdown complete.\n",
      "CPU times: user 2.89 s, sys: 432 ms, total: 3.32 s\n",
      "Wall time: 2min 51s\n"
     ]
    }
   ],
   "source": [
    "%%time\n",
    "! hdfs dfs -get s3a://blausher-data-storage/VisitsStream.tsv VisitsStream.tsv"
   ]
  },
  {
   "cell_type": "code",
   "execution_count": 28,
   "id": "ff33ed2c",
   "metadata": {},
   "outputs": [
    {
     "name": "stdout",
     "output_type": "stream",
     "text": [
      "Found 1 items\r\n",
      "-rw-r--r--   1 ubuntu hadoop  818413568 2024-03-15 16:46 /user/hw3_small_vw/AdsInfo.tsv._COPYING_\r\n"
     ]
    }
   ],
   "source": [
    "! hdfs dfs -ls /user/hw3_small_vw"
   ]
  },
  {
   "cell_type": "code",
   "execution_count": null,
   "id": "fa8a18d3",
   "metadata": {},
   "outputs": [],
   "source": []
  },
  {
   "cell_type": "code",
   "execution_count": 31,
   "id": "59aac350",
   "metadata": {},
   "outputs": [],
   "source": [
    "! hdfs dfs -put Category.tsv /user/hw3_small_vw\n",
    "! hdfs dfs -put Location.tsv /user/hw3_small_vw\n",
    "! hdfs dfs -put PhoneRequestsStream.tsv /user/hw3_small_vw\n",
    "! hdfs dfs -put SearchInfo.tsv /user/hw3_small_vw\n",
    "! hdfs dfs -put testSearchStream.tsv /user/hw3_small_vw\n",
    "! hdfs dfs -put trainSearchStream.tsv /user/hw3_small_vw\n",
    "! hdfs dfs -put UserInfo.tsv /user/hw3_small_vw\n",
    "! hdfs dfs -put VisitsStream.tsv /user/hw3_small_vw\n",
    "! hdfs dfs -put sampleSubmission_HistCTR.csv /user/hw3_small_vw\n",
    "! hdfs dfs -put sampleSubmission.csv /user/hw3_small_vw"
   ]
  },
  {
   "cell_type": "code",
   "execution_count": 32,
   "id": "39448a7d",
   "metadata": {},
   "outputs": [],
   "source": [
    "! hdfs dfs -put AdsInfo.tsv /user/hw3_small_vw"
   ]
  },
  {
   "cell_type": "markdown",
   "id": "5bd9506f",
   "metadata": {},
   "source": [
    "## Переводим данные в паркет"
   ]
  },
  {
   "cell_type": "code",
   "execution_count": 3,
   "id": "fb8fa426",
   "metadata": {},
   "outputs": [
    {
     "name": "stdout",
     "output_type": "stream",
     "text": [
      "INFO: Pandarallel will run on 3 workers.\n",
      "INFO: Pandarallel will use standard multiprocessing data transfer (pipe) to transfer data between the main process and workers.\n"
     ]
    }
   ],
   "source": [
    "import re\n",
    "import numpy as np\n",
    "import ast # for dict unpack\n",
    "from pandarallel import pandarallel\n",
    "pandarallel.initialize(use_memory_fs=False, progress_bar=True,nb_workers=3)"
   ]
  },
  {
   "cell_type": "code",
   "execution_count": 4,
   "id": "d9d7bf2f",
   "metadata": {},
   "outputs": [],
   "source": [
    "import pandas as pd\n",
    "pd.set_option('display.max_columns', 500)"
   ]
  },
  {
   "cell_type": "code",
   "execution_count": 5,
   "id": "93d62a8f",
   "metadata": {},
   "outputs": [],
   "source": [
    "import findspark\n",
    "findspark.init()"
   ]
  },
  {
   "cell_type": "code",
   "execution_count": 6,
   "id": "83a69089",
   "metadata": {},
   "outputs": [],
   "source": [
    "import pyspark\n",
    "sc = pyspark.SparkContext(appName=\"lsml-app-2\")"
   ]
  },
  {
   "cell_type": "code",
   "execution_count": 7,
   "id": "caeba834",
   "metadata": {},
   "outputs": [],
   "source": [
    "from pyspark.sql import SparkSession, Row\n",
    "se = SparkSession(sc)"
   ]
  },
  {
   "cell_type": "markdown",
   "id": "1c70c2bd",
   "metadata": {},
   "source": [
    "Переводим в паркет"
   ]
  },
  {
   "cell_type": "code",
   "execution_count": 14,
   "id": "28907be3",
   "metadata": {},
   "outputs": [
    {
     "data": {
      "text/plain": [
       "9"
      ]
     },
     "execution_count": 14,
     "metadata": {},
     "output_type": "execute_result"
    }
   ],
   "source": [
    "files_list = ['AdsInfo.tsv', 'Category.tsv', 'Location.tsv', 'PhoneRequestsStream.tsv',\n",
    "              'SearchInfo.tsv', 'UserInfo.tsv','testSearchStream.tsv', 'trainSearchStream.tsv', 'VisitsStream.tsv']\n",
    "len(files_list)\n",
    "\n",
    "# 'sampleSubmission.csv', 'sampleSubmission_HistCTR.csv'"
   ]
  },
  {
   "cell_type": "code",
   "execution_count": 16,
   "id": "5afdee36",
   "metadata": {},
   "outputs": [
    {
     "name": "stdout",
     "output_type": "stream",
     "text": [
      "passed\n",
      "passed\n",
      "passed\n",
      "passed\n",
      "passed\n",
      "passed\n",
      "passed\n",
      "passed\n",
      "passed\n",
      "CPU times: user 126 ms, sys: 30.2 ms, total: 156 ms\n",
      "Wall time: 19min 7s\n"
     ]
    }
   ],
   "source": [
    "%%time\n",
    "for file in files_list:\n",
    "    name = file.split('.')[0]\n",
    "    df = se.read.option(\"mode\", \"DROPMALFORMED\").option('sep', '\\t') \\\n",
    "                    .csv(f\"/user/hw3_small_vw/{file}\", header=True, inferSchema=True)\n",
    "\n",
    "    df.write.parquet(f\"/user/hw3_small_vw/{name}.parquet\")\n",
    "    print(\"passed\")"
   ]
  },
  {
   "cell_type": "code",
   "execution_count": 19,
   "id": "fdd86e75",
   "metadata": {},
   "outputs": [
    {
     "name": "stdout",
     "output_type": "stream",
     "text": [
      "drwxr-xr-x   - ubuntu hadoop           0 2024-03-16 12:36 /user/hw3_small_vw/AdsInfo.parquet\r\n",
      "drwxr-xr-x   - ubuntu hadoop           0 2024-03-16 12:36 /user/hw3_small_vw/Category.parquet\r\n",
      "drwxr-xr-x   - ubuntu hadoop           0 2024-03-16 12:36 /user/hw3_small_vw/Location.parquet\r\n",
      "drwxr-xr-x   - ubuntu hadoop           0 2024-03-16 12:36 /user/hw3_small_vw/PhoneRequestsStream.parquet\r\n",
      "drwxr-xr-x   - ubuntu hadoop           0 2024-03-16 12:40 /user/hw3_small_vw/SearchInfo.parquet\r\n",
      "drwxr-xr-x   - ubuntu hadoop           0 2024-03-16 12:40 /user/hw3_small_vw/UserInfo.parquet\r\n",
      "drwxr-xr-x   - ubuntu hadoop           0 2024-03-16 12:54 /user/hw3_small_vw/VisitsStream.parquet\r\n",
      "drwxr-xr-x   - ubuntu hadoop           0 2024-03-16 12:41 /user/hw3_small_vw/testSearchStream.parquet\r\n",
      "drwxr-xr-x   - ubuntu hadoop           0 2024-03-16 12:47 /user/hw3_small_vw/trainSearchStream.parquet\r\n"
     ]
    }
   ],
   "source": [
    "! hdfs dfs -ls /user/hw3_small_vw | grep -o '.*parquet'"
   ]
  },
  {
   "cell_type": "markdown",
   "id": "aab13cf9",
   "metadata": {},
   "source": [
    "### Загружаем таблицы"
   ]
  },
  {
   "cell_type": "code",
   "execution_count": 8,
   "id": "22d01af5",
   "metadata": {},
   "outputs": [],
   "source": [
    "AdsInfo = se.read.parquet(\"/user/hw3_small_vw/AdsInfo.parquet\")\n",
    "Category = se.read.parquet(\"/user/hw3_small_vw/Category.parquet\")\n",
    "Location = se.read.parquet(\"/user/hw3_small_vw/Location.parquet\")\n",
    "PhoneRequestsStream = se.read.parquet(\"/user/hw3_small_vw/PhoneRequestsStream.parquet\")\n",
    "SearchInfo = se.read.parquet(\"/user/hw3_small_vw/SearchInfo.parquet\")\n",
    "UserInfo = se.read.parquet(\"/user/hw3_small_vw/UserInfo.parquet\")\n",
    "VisitsStream = se.read.parquet(\"/user/hw3_small_vw/VisitsStream.parquet\")\n",
    "testSearchStream = se.read.parquet(\"/user/hw3_small_vw/testSearchStream.parquet\")\n",
    "trainSearchStream = se.read.parquet(\"/user/hw3_small_vw/trainSearchStream.parquet\")\n",
    "\n",
    "AdsInfo.registerTempTable(\"AdsInfo\")\n",
    "Category.registerTempTable(\"Category\")\n",
    "Location.registerTempTable(\"Location\")\n",
    "PhoneRequestsStream.registerTempTable(\"PhoneRequestsStream\")\n",
    "SearchInfo.registerTempTable(\"SearchInfo\")\n",
    "VisitsStream.registerTempTable(\"VisitsStream\")\n",
    "UserInfo.registerTempTable(\"UserInfo\")\n",
    "testSearchStream.registerTempTable(\"testSearchStream\")\n",
    "trainSearchStream.registerTempTable(\"trainSearchStream\")"
   ]
  },
  {
   "cell_type": "markdown",
   "id": "9c15394a",
   "metadata": {},
   "source": [
    "<img src=\"https://storage.googleapis.com/kaggle-media/competitions/kaggle/4438/media/DB_schema.png\" alt=\"Alternative text\" />"
   ]
  },
  {
   "cell_type": "code",
   "execution_count": 11,
   "id": "20ab02e7",
   "metadata": {},
   "outputs": [],
   "source": [
    "# ! hdfs dfs -cat /user/hw3_small_vw/sampleSubmission.csv | head"
   ]
  },
  {
   "cell_type": "code",
   "execution_count": 12,
   "id": "66d95a3b",
   "metadata": {},
   "outputs": [],
   "source": [
    "# ! hdfs dfs -cat /user/hw3_small_vw/sampleSubmission_HistCTR.csv | head"
   ]
  },
  {
   "cell_type": "code",
   "execution_count": 13,
   "id": "671f7f32",
   "metadata": {},
   "outputs": [],
   "source": [
    "# ! hdfs dfs -cat /user/hw3_small_vw/testSearchStream.tsv | head"
   ]
  },
  {
   "cell_type": "code",
   "execution_count": 14,
   "id": "c29626fe",
   "metadata": {},
   "outputs": [],
   "source": [
    "# ! hdfs dfs -cat /user/hw3_small_vw/trainSearchStream.tsv | head"
   ]
  },
  {
   "cell_type": "code",
   "execution_count": 74,
   "id": "a3a9e3eb",
   "metadata": {},
   "outputs": [
    {
     "data": {
      "text/html": [
       "<div>\n",
       "<style scoped>\n",
       "    .dataframe tbody tr th:only-of-type {\n",
       "        vertical-align: middle;\n",
       "    }\n",
       "\n",
       "    .dataframe tbody tr th {\n",
       "        vertical-align: top;\n",
       "    }\n",
       "\n",
       "    .dataframe thead th {\n",
       "        text-align: right;\n",
       "    }\n",
       "</style>\n",
       "<table border=\"1\" class=\"dataframe\">\n",
       "  <thead>\n",
       "    <tr style=\"text-align: right;\">\n",
       "      <th></th>\n",
       "      <th>count(1)</th>\n",
       "    </tr>\n",
       "  </thead>\n",
       "  <tbody>\n",
       "    <tr>\n",
       "      <th>0</th>\n",
       "      <td>392356948</td>\n",
       "    </tr>\n",
       "  </tbody>\n",
       "</table>\n",
       "</div>"
      ],
      "text/plain": [
       "    count(1)\n",
       "0  392356948"
      ]
     },
     "execution_count": 74,
     "metadata": {},
     "output_type": "execute_result"
    }
   ],
   "source": [
    "querry = se.sql(\"\"\"\n",
    "SELECT COUNT(*)\n",
    "FROM trainSearchStream\n",
    "\"\"\")\n",
    "querry.toPandas()"
   ]
  },
  {
   "cell_type": "code",
   "execution_count": 261,
   "id": "43dd557f",
   "metadata": {},
   "outputs": [
    {
     "data": {
      "text/html": [
       "<div>\n",
       "<style scoped>\n",
       "    .dataframe tbody tr th:only-of-type {\n",
       "        vertical-align: middle;\n",
       "    }\n",
       "\n",
       "    .dataframe tbody tr th {\n",
       "        vertical-align: top;\n",
       "    }\n",
       "\n",
       "    .dataframe thead th {\n",
       "        text-align: right;\n",
       "    }\n",
       "</style>\n",
       "<table border=\"1\" class=\"dataframe\">\n",
       "  <thead>\n",
       "    <tr style=\"text-align: right;\">\n",
       "      <th></th>\n",
       "      <th>count(1)</th>\n",
       "    </tr>\n",
       "  </thead>\n",
       "  <tbody>\n",
       "    <tr>\n",
       "      <th>0</th>\n",
       "      <td>15961515</td>\n",
       "    </tr>\n",
       "  </tbody>\n",
       "</table>\n",
       "</div>"
      ],
      "text/plain": [
       "   count(1)\n",
       "0  15961515"
      ]
     },
     "execution_count": 261,
     "metadata": {},
     "output_type": "execute_result"
    }
   ],
   "source": [
    "querry = se.sql(\"\"\"\n",
    "SELECT COUNT(*)\n",
    "FROM testSearchStream\n",
    "\"\"\")\n",
    "querry.toPandas()"
   ]
  },
  {
   "cell_type": "code",
   "execution_count": 262,
   "id": "329b01b1",
   "metadata": {},
   "outputs": [
    {
     "data": {
      "text/html": [
       "<div>\n",
       "<style scoped>\n",
       "    .dataframe tbody tr th:only-of-type {\n",
       "        vertical-align: middle;\n",
       "    }\n",
       "\n",
       "    .dataframe tbody tr th {\n",
       "        vertical-align: top;\n",
       "    }\n",
       "\n",
       "    .dataframe thead th {\n",
       "        text-align: right;\n",
       "    }\n",
       "</style>\n",
       "<table border=\"1\" class=\"dataframe\">\n",
       "  <thead>\n",
       "    <tr style=\"text-align: right;\">\n",
       "      <th></th>\n",
       "      <th>count(1)</th>\n",
       "    </tr>\n",
       "  </thead>\n",
       "  <tbody>\n",
       "    <tr>\n",
       "      <th>0</th>\n",
       "      <td>7816361</td>\n",
       "    </tr>\n",
       "  </tbody>\n",
       "</table>\n",
       "</div>"
      ],
      "text/plain": [
       "   count(1)\n",
       "0   7816361"
      ]
     },
     "execution_count": 262,
     "metadata": {},
     "output_type": "execute_result"
    }
   ],
   "source": [
    "querry = se.sql(\"\"\"\n",
    "SELECT COUNT(*)\n",
    "FROM testSearchStream\n",
    "WHERE ObjectType = 3\n",
    "\"\"\")\n",
    "querry.toPandas()"
   ]
  },
  {
   "cell_type": "code",
   "execution_count": null,
   "id": "2a3c6dbd",
   "metadata": {},
   "outputs": [],
   "source": [
    "392_356_948"
   ]
  },
  {
   "cell_type": "code",
   "execution_count": 131,
   "id": "2098c423",
   "metadata": {},
   "outputs": [
    {
     "data": {
      "text/html": [
       "<div>\n",
       "<style scoped>\n",
       "    .dataframe tbody tr th:only-of-type {\n",
       "        vertical-align: middle;\n",
       "    }\n",
       "\n",
       "    .dataframe tbody tr th {\n",
       "        vertical-align: top;\n",
       "    }\n",
       "\n",
       "    .dataframe thead th {\n",
       "        text-align: right;\n",
       "    }\n",
       "</style>\n",
       "<table border=\"1\" class=\"dataframe\">\n",
       "  <thead>\n",
       "    <tr style=\"text-align: right;\">\n",
       "      <th></th>\n",
       "      <th>count(1)</th>\n",
       "    </tr>\n",
       "  </thead>\n",
       "  <tbody>\n",
       "    <tr>\n",
       "      <th>0</th>\n",
       "      <td>190157735</td>\n",
       "    </tr>\n",
       "  </tbody>\n",
       "</table>\n",
       "</div>"
      ],
      "text/plain": [
       "    count(1)\n",
       "0  190157735"
      ]
     },
     "execution_count": 131,
     "metadata": {},
     "output_type": "execute_result"
    }
   ],
   "source": [
    "querry = se.sql(\"\"\"\n",
    "SELECT COUNT(*)\n",
    "FROM trainSearchStream\n",
    "WHERE IsClick IS NOT NULL\n",
    "\"\"\")\n",
    "querry.toPandas()"
   ]
  },
  {
   "cell_type": "code",
   "execution_count": null,
   "id": "cc0e5195",
   "metadata": {},
   "outputs": [],
   "source": [
    "190_157_735"
   ]
  },
  {
   "cell_type": "markdown",
   "id": "46ec048d",
   "metadata": {},
   "source": [
    "## Готовим датасеты\n",
    "\n",
    "VisitsStream не нужен тк это не контекстная реклама"
   ]
  },
  {
   "cell_type": "markdown",
   "id": "116d31de",
   "metadata": {},
   "source": [
    "#### Датасет для обучения и для замерки качества:"
   ]
  },
  {
   "cell_type": "code",
   "execution_count": 38,
   "id": "ec02c71b",
   "metadata": {},
   "outputs": [],
   "source": [
    "train_joined = se.sql(\"\"\"\n",
    "SELECT \n",
    "tss.SearchID, -- нужно для прошлого действия\n",
    "tss.AdID,     -- id мб не нужно\n",
    "tss.Position,\n",
    "-- tss.ObjectType, --не нужет тк везде равен = 3\n",
    "tss.HistCTR,\n",
    "tss.IsClick, -- ТАРГЕТ\n",
    "\n",
    "si.SearchDate,\n",
    "si.IPID,\n",
    "si.UserID,\n",
    "si.IsUserLoggedOn,\n",
    "LOWER(si.SearchQuery) SearchQuery,\n",
    "si.LocationID,\n",
    "si.CategoryID,\n",
    "nvl(si.SearchParams, ai.Params) Params,\n",
    "\n",
    "ai.Price add_price,\n",
    "ai.Title add_title,\n",
    "\n",
    "c.Level category_Level,\n",
    "c.ParentCategoryID,\n",
    "c.SubcategoryID,\n",
    "\n",
    "l.Level location_Level,\n",
    "l.RegionID,\n",
    "l.CityID\n",
    "\n",
    "FROM trainSearchStream tss\n",
    "\n",
    "LEFT JOIN SearchInfo si\n",
    "ON tss.SearchID = si.SearchID\n",
    "\n",
    "LEFT JOIN AdsInfo ai\n",
    "ON tss.AdID = ai.AdID\n",
    "\n",
    "LEFT JOIN Category c\n",
    "ON si.CategoryID = c.CategoryID\n",
    "\n",
    "LEFT JOIN Location l\n",
    "ON si.LocationID = l.LocationID\n",
    "\n",
    "WHERE (tss.ObjectType = 3) \n",
    "\n",
    "LIMIT 38000000\n",
    "\"\"\")"
   ]
  },
  {
   "cell_type": "code",
   "execution_count": 39,
   "id": "17076617",
   "metadata": {},
   "outputs": [
    {
     "name": "stdout",
     "output_type": "stream",
     "text": [
      "CPU times: user 52.3 ms, sys: 15.4 ms, total: 67.8 ms\n",
      "Wall time: 9min 43s\n"
     ]
    }
   ],
   "source": [
    "%%time\n",
    "train_joined.write.format('overwrite').parquet(\"/user/hw3_small_vw/train_joined_v0.parquet\")"
   ]
  },
  {
   "cell_type": "markdown",
   "id": "0032f23e",
   "metadata": {},
   "source": [
    "#### Kaggle test датасет:"
   ]
  },
  {
   "cell_type": "code",
   "execution_count": 18,
   "id": "844c832b",
   "metadata": {},
   "outputs": [],
   "source": [
    "test_joined = se.sql(\"\"\"\n",
    "SELECT \n",
    "tss.ID, \n",
    "tss.SearchID, \n",
    "tss.AdID, \n",
    "tss.Position, \n",
    "-- tss.ObjectType, -- не нужет тк везде равен = 3\n",
    "tss.HistCTR,\n",
    "\n",
    "si.SearchDate,\n",
    "si.IPID,\n",
    "si.UserID,\n",
    "si.IsUserLoggedOn,\n",
    "LOWER(si.SearchQuery) SearchQuery,\n",
    "si.LocationID,\n",
    "si.CategoryID,\n",
    "nvl(si.SearchParams, ai.Params) Params,\n",
    "\n",
    "ai.Price add_price,\n",
    "ai.Title add_title,\n",
    "\n",
    "c.Level category_Level,\n",
    "c.ParentCategoryID,\n",
    "c.SubcategoryID,\n",
    "\n",
    "l.Level location_Level,\n",
    "l.RegionID,\n",
    "l.CityID\n",
    "\n",
    "FROM testSearchStream tss\n",
    "\n",
    "LEFT JOIN SearchInfo si\n",
    "ON tss.SearchID = si.SearchID\n",
    "\n",
    "LEFT JOIN AdsInfo ai\n",
    "ON tss.AdID = ai.AdID\n",
    "\n",
    "LEFT JOIN Category c\n",
    "ON si.CategoryID = c.CategoryID\n",
    "\n",
    "LEFT JOIN Location l\n",
    "ON si.LocationID = l.LocationID\n",
    "\n",
    "WHERE (tss.ObjectType = 3)\n",
    "\"\"\")"
   ]
  },
  {
   "cell_type": "code",
   "execution_count": 19,
   "id": "6ab6c71e",
   "metadata": {},
   "outputs": [],
   "source": [
    "# 7_816_361 - строк в test_joined"
   ]
  },
  {
   "cell_type": "code",
   "execution_count": 20,
   "id": "c757dc93",
   "metadata": {},
   "outputs": [
    {
     "name": "stdout",
     "output_type": "stream",
     "text": [
      "CPU times: user 12.9 ms, sys: 13.3 ms, total: 26.2 ms\n",
      "Wall time: 3min 27s\n"
     ]
    }
   ],
   "source": [
    "%%time\n",
    "test_joined.write.format('overwrite').parquet(\"/user/hw3_small_vw/test_joined_v0.parquet\")"
   ]
  },
  {
   "cell_type": "code",
   "execution_count": null,
   "id": "03d35eae",
   "metadata": {},
   "outputs": [],
   "source": []
  },
  {
   "cell_type": "markdown",
   "id": "50ac7360",
   "metadata": {},
   "source": [
    "#### Некоторые функции для обработки сырых признаков"
   ]
  },
  {
   "cell_type": "code",
   "execution_count": 9,
   "id": "8aca161b",
   "metadata": {},
   "outputs": [
    {
     "data": {
      "text/plain": [
       "<function __main__.dict_parcer(raw_value)>"
      ]
     },
     "execution_count": 9,
     "metadata": {},
     "output_type": "execute_result"
    }
   ],
   "source": [
    "def weekdays_to_num(raw_value):\n",
    "    if raw_value is not None:\n",
    "        dct = {'Monday': 1, \n",
    "               'Tuesday':2, \n",
    "                'Wednesday':3, \n",
    "                'Thursday':4, \n",
    "                'Friday':5, \n",
    "                'Saturday':6, \n",
    "                'Sunday':7}\n",
    "        return dct.get(raw_value)   \n",
    "\n",
    "def day_time(raw_value, daytime = 'evening'):\n",
    "    if raw_value is not None:\n",
    "        if (daytime == 'evening') & (raw_value >= 18) :\n",
    "            return 1\n",
    "        if (daytime == 'morning') & ((raw_value >= 7) & (raw_value <= 12)) :\n",
    "            return 1\n",
    "        if (daytime == 'day') & ((raw_value > 12) & (raw_value < 18)) :\n",
    "            return 1\n",
    "        else:\n",
    "            return 0    \n",
    "\n",
    "def dict_parcer(raw_value):\n",
    "    if raw_value is not None:\n",
    "            \n",
    "        word_pattern = re.compile(r\"[A-zА-яё_]+\")\n",
    "        words = [match.group(0) for match in re.finditer(word_pattern, raw_value)]    \n",
    "        \n",
    "        params_text = ' '.join(words)\n",
    "        return params_text.lower()\n",
    "\n",
    "se.udf.register(\"weekdays_to_num\", weekdays_to_num, 'int')  \n",
    "se.udf.register(\"day_time\", day_time, 'int')\n",
    "se.udf.register(\"dict_parcer\", dict_parcer, 'string')        "
   ]
  },
  {
   "cell_type": "code",
   "execution_count": null,
   "id": "02f69e75",
   "metadata": {},
   "outputs": [],
   "source": []
  },
  {
   "cell_type": "code",
   "execution_count": 10,
   "id": "b1873c6d",
   "metadata": {},
   "outputs": [],
   "source": [
    "# читаем данные\n",
    "train_joined = se.read.parquet(\"/user/hw3_small_vw/train_joined_v0.parquet\")\n",
    "train_joined.registerTempTable(\"train_joined\")\n",
    "\n",
    "test_joined = se.read.parquet(\"/user/hw3_small_vw/test_joined_v0.parquet\")\n",
    "test_joined.registerTempTable(\"test_joined\")"
   ]
  },
  {
   "cell_type": "code",
   "execution_count": 43,
   "id": "5c085bc6",
   "metadata": {},
   "outputs": [],
   "source": [
    "train_prep_0 = se.sql(\"\"\"\n",
    "SELECT \n",
    "SearchID,\n",
    "AdID,\n",
    "Position,\n",
    "HistCTR,\n",
    "IsClick,\n",
    "-- SearchDate, -- преобразуем\n",
    "-- IPID, -- ip не сильно нужен - все равно что юзер\n",
    "UserID,\n",
    "IsUserLoggedOn,\n",
    "SearchQuery,\n",
    "LocationID,\n",
    "CategoryID,\n",
    "dict_parcer(Params) parsed_params,\n",
    "add_price,\n",
    "add_title,\n",
    "category_Level,\n",
    "ParentCategoryID,\n",
    "SubcategoryID,\n",
    "location_Level,\n",
    "RegionID,\n",
    "CityID,\n",
    "date(SearchDate) date, \n",
    "hour(SearchDate) hour, \n",
    "minute(SearchDate) minute, \n",
    "date_format(SearchDate, 'EEEE') weekday\n",
    "\n",
    "FROM train_joined\n",
    "\"\"\")"
   ]
  },
  {
   "cell_type": "code",
   "execution_count": 47,
   "id": "e69dd3f5",
   "metadata": {},
   "outputs": [
    {
     "name": "stdout",
     "output_type": "stream",
     "text": [
      "CPU times: user 14.5 ms, sys: 116 µs, total: 14.6 ms\n",
      "Wall time: 2min 9s\n"
     ]
    }
   ],
   "source": [
    "%%time\n",
    "train_prep_0.write.format('overwrite').parquet(\"/user/hw3_small_vw/train_prep_0.parquet\")"
   ]
  },
  {
   "cell_type": "code",
   "execution_count": null,
   "id": "c492c6bf",
   "metadata": {},
   "outputs": [],
   "source": []
  },
  {
   "cell_type": "code",
   "execution_count": 37,
   "id": "126ef415",
   "metadata": {},
   "outputs": [],
   "source": [
    "test_prep_0 = se.sql(\"\"\"\n",
    "SELECT \n",
    "ID,\n",
    "SearchID,\n",
    "AdID,\n",
    "Position,\n",
    "HistCTR,\n",
    "-- SearchDate, -- преобразуем\n",
    "-- IPID, -- ip не сильно нужен - все равно что юзер\n",
    "UserID,\n",
    "IsUserLoggedOn,\n",
    "SearchQuery,\n",
    "LocationID,\n",
    "CategoryID,\n",
    "dict_parcer(Params) parsed_params,\n",
    "add_price,\n",
    "add_title,\n",
    "category_Level,\n",
    "ParentCategoryID,\n",
    "SubcategoryID,\n",
    "location_Level,\n",
    "RegionID,\n",
    "CityID,\n",
    "date(SearchDate) date, \n",
    "hour(SearchDate) hour, \n",
    "minute(SearchDate) minute, \n",
    "date_format(SearchDate, 'EEEE') weekday\n",
    "\n",
    "FROM test_joined\n",
    "\"\"\")"
   ]
  },
  {
   "cell_type": "code",
   "execution_count": 38,
   "id": "914d3d14",
   "metadata": {},
   "outputs": [
    {
     "name": "stdout",
     "output_type": "stream",
     "text": [
      "CPU times: user 3.85 ms, sys: 918 µs, total: 4.76 ms\n",
      "Wall time: 34.8 s\n"
     ]
    }
   ],
   "source": [
    "%%time\n",
    "test_prep_0.write.format('overwrite').parquet(\"/user/hw3_small_vw/test_prep_0.parquet\")"
   ]
  },
  {
   "cell_type": "code",
   "execution_count": null,
   "id": "5592dd04",
   "metadata": {},
   "outputs": [],
   "source": []
  },
  {
   "cell_type": "code",
   "execution_count": 11,
   "id": "1d49863d",
   "metadata": {},
   "outputs": [],
   "source": [
    "# читаем данные\n",
    "train_prep_0 = se.read.parquet(\"/user/hw3_small_vw/train_prep_0.parquet\")\n",
    "train_prep_0.registerTempTable(\"train_prep_0\")\n",
    "\n",
    "test_prep_0 = se.read.parquet(\"/user/hw3_small_vw/test_prep_0.parquet\")\n",
    "test_prep_0.registerTempTable(\"test_prep_0\")"
   ]
  },
  {
   "cell_type": "code",
   "execution_count": 50,
   "id": "bf2622fd",
   "metadata": {},
   "outputs": [],
   "source": [
    "train_prep_1 = se.sql(\"\"\"\n",
    "SELECT \n",
    "SearchID,\n",
    "AdID,\n",
    "Position,\n",
    "HistCTR,\n",
    "IsClick,\n",
    "UserID,\n",
    "IsUserLoggedOn,\n",
    "SearchQuery,\n",
    "LocationID,\n",
    "CategoryID,\n",
    "parsed_params,\n",
    "add_price,\n",
    "add_title,\n",
    "category_Level,\n",
    "ParentCategoryID,\n",
    "SubcategoryID,\n",
    "location_Level,\n",
    "RegionID,\n",
    "CityID,\n",
    "-- date, -- на их основе ohe параметры\n",
    "-- hour,\n",
    "-- minute,\n",
    "-- weekday, -- кодируем числом\n",
    "\n",
    "weekdays_to_num(weekday) weekday_encoded,\n",
    "day_time(hour, 'evening') is_evening,\n",
    "day_time(hour, 'morning') is_morning,\n",
    "day_time(hour, 'day') is_day,\n",
    "\n",
    "LAG(AdID, 1) OVER(PARTITION BY userID ORDER BY date, hour, minute ASC) prev_AdID,\n",
    "LAG(parsed_params, 1) OVER(PARTITION BY userID ORDER BY date, hour, minute ASC) prev_parsed_params\n",
    "\n",
    "FROM train_prep_0\n",
    "\"\"\")"
   ]
  },
  {
   "cell_type": "code",
   "execution_count": 54,
   "id": "523c26ba",
   "metadata": {},
   "outputs": [
    {
     "name": "stdout",
     "output_type": "stream",
     "text": [
      "CPU times: user 18.3 ms, sys: 15.8 ms, total: 34.1 ms\n",
      "Wall time: 2min 22s\n"
     ]
    }
   ],
   "source": [
    "%%time\n",
    "train_prep_1.write.format('overwrite').parquet(\"/user/hw3_small_vw/train_prep_1.parquet\")"
   ]
  },
  {
   "cell_type": "code",
   "execution_count": null,
   "id": "7be4246a",
   "metadata": {},
   "outputs": [],
   "source": []
  },
  {
   "cell_type": "code",
   "execution_count": 47,
   "id": "31ccd2fe",
   "metadata": {},
   "outputs": [],
   "source": [
    "test_prep_1 = se.sql(\"\"\"\n",
    "SELECT \n",
    "ID,\n",
    "SearchID,\n",
    "AdID,\n",
    "Position,\n",
    "HistCTR,\n",
    "UserID,\n",
    "IsUserLoggedOn,\n",
    "SearchQuery,\n",
    "LocationID,\n",
    "CategoryID,\n",
    "parsed_params,\n",
    "add_price,\n",
    "add_title,\n",
    "category_Level,\n",
    "ParentCategoryID,\n",
    "SubcategoryID,\n",
    "location_Level,\n",
    "RegionID,\n",
    "CityID,\n",
    "-- date, -- на их основе ohe параметры\n",
    "-- hour,\n",
    "-- minute,\n",
    "-- weekday, -- кодируем числом\n",
    "\n",
    "weekdays_to_num(weekday) weekday_encoded,\n",
    "day_time(hour, 'evening') is_evening,\n",
    "day_time(hour, 'morning') is_morning,\n",
    "day_time(hour, 'day') is_day,\n",
    "\n",
    "LAG(AdID, 1) OVER(PARTITION BY userID ORDER BY date, hour, minute ASC) prev_AdID,\n",
    "LAG(parsed_params, 1) OVER(PARTITION BY userID ORDER BY date, hour, minute ASC) prev_parsed_params\n",
    "\n",
    "FROM test_prep_0\n",
    "\"\"\")"
   ]
  },
  {
   "cell_type": "code",
   "execution_count": 48,
   "id": "c8620ed8",
   "metadata": {},
   "outputs": [
    {
     "name": "stdout",
     "output_type": "stream",
     "text": [
      "CPU times: user 22.9 ms, sys: 4.61 ms, total: 27.5 ms\n",
      "Wall time: 46.9 s\n"
     ]
    }
   ],
   "source": [
    "%%time\n",
    "test_prep_1.write.format('overwrite').parquet(\"/user/hw3_small_vw/test_prep_1.parquet\")"
   ]
  },
  {
   "cell_type": "code",
   "execution_count": null,
   "id": "79fd30ea",
   "metadata": {},
   "outputs": [],
   "source": []
  },
  {
   "cell_type": "code",
   "execution_count": 12,
   "id": "ab00d36a",
   "metadata": {},
   "outputs": [],
   "source": [
    "# читаем данные\n",
    "train_prep_1 = se.read.parquet(\"/user/hw3_small_vw/train_prep_1.parquet\")\n",
    "train_prep_1.registerTempTable(\"train_prep_1\")\n",
    "\n",
    "test_prep_1 = se.read.parquet(\"/user/hw3_small_vw/test_prep_1.parquet\")\n",
    "test_prep_1.registerTempTable(\"test_prep_1\")"
   ]
  },
  {
   "cell_type": "code",
   "execution_count": 63,
   "id": "aad0f177",
   "metadata": {},
   "outputs": [
    {
     "data": {
      "text/html": [
       "<div>\n",
       "<style scoped>\n",
       "    .dataframe tbody tr th:only-of-type {\n",
       "        vertical-align: middle;\n",
       "    }\n",
       "\n",
       "    .dataframe tbody tr th {\n",
       "        vertical-align: top;\n",
       "    }\n",
       "\n",
       "    .dataframe thead th {\n",
       "        text-align: right;\n",
       "    }\n",
       "</style>\n",
       "<table border=\"1\" class=\"dataframe\">\n",
       "  <thead>\n",
       "    <tr style=\"text-align: right;\">\n",
       "      <th></th>\n",
       "      <th>SearchID</th>\n",
       "      <th>AdID</th>\n",
       "      <th>Position</th>\n",
       "      <th>HistCTR</th>\n",
       "      <th>IsClick</th>\n",
       "      <th>UserID</th>\n",
       "      <th>IsUserLoggedOn</th>\n",
       "      <th>SearchQuery</th>\n",
       "      <th>LocationID</th>\n",
       "      <th>CategoryID</th>\n",
       "      <th>parsed_params</th>\n",
       "      <th>add_price</th>\n",
       "      <th>add_title</th>\n",
       "      <th>category_Level</th>\n",
       "      <th>ParentCategoryID</th>\n",
       "      <th>SubcategoryID</th>\n",
       "      <th>location_Level</th>\n",
       "      <th>RegionID</th>\n",
       "      <th>CityID</th>\n",
       "      <th>weekday_encoded</th>\n",
       "      <th>is_evening</th>\n",
       "      <th>is_morning</th>\n",
       "      <th>is_day</th>\n",
       "      <th>prev_AdID</th>\n",
       "      <th>prev_parsed_params</th>\n",
       "    </tr>\n",
       "  </thead>\n",
       "  <tbody>\n",
       "    <tr>\n",
       "      <th>0</th>\n",
       "      <td>0</td>\n",
       "      <td>0</td>\n",
       "      <td>0</td>\n",
       "      <td>0</td>\n",
       "      <td>0</td>\n",
       "      <td>0</td>\n",
       "      <td>0</td>\n",
       "      <td>32875498</td>\n",
       "      <td>0</td>\n",
       "      <td>0</td>\n",
       "      <td>1878362</td>\n",
       "      <td>9821</td>\n",
       "      <td>9821</td>\n",
       "      <td>0</td>\n",
       "      <td>0</td>\n",
       "      <td>0</td>\n",
       "      <td>0</td>\n",
       "      <td>1077201</td>\n",
       "      <td>1077201</td>\n",
       "      <td>0</td>\n",
       "      <td>0</td>\n",
       "      <td>0</td>\n",
       "      <td>0</td>\n",
       "      <td>2278561</td>\n",
       "      <td>4036840</td>\n",
       "    </tr>\n",
       "  </tbody>\n",
       "</table>\n",
       "</div>"
      ],
      "text/plain": [
       "   SearchID  AdID  Position  HistCTR  IsClick  UserID  IsUserLoggedOn  \\\n",
       "0         0     0         0        0        0       0               0   \n",
       "\n",
       "   SearchQuery  LocationID  CategoryID  parsed_params  add_price  add_title  \\\n",
       "0     32875498           0           0        1878362       9821       9821   \n",
       "\n",
       "   category_Level  ParentCategoryID  SubcategoryID  location_Level  RegionID  \\\n",
       "0               0                 0              0               0   1077201   \n",
       "\n",
       "    CityID  weekday_encoded  is_evening  is_morning  is_day  prev_AdID  \\\n",
       "0  1077201                0           0           0       0    2278561   \n",
       "\n",
       "   prev_parsed_params  \n",
       "0             4036840  "
      ]
     },
     "execution_count": 63,
     "metadata": {},
     "output_type": "execute_result"
    }
   ],
   "source": [
    "# проверяем пропуски\n",
    "nanvals = se.sql(\"\"\"\n",
    "SELECT (38000000-COUNT(SearchID)) as SearchID,\n",
    "(38000000-COUNT(AdID)) as AdID,\n",
    "(38000000-COUNT(Position)) as Position,\n",
    "(38000000-COUNT(HistCTR)) as HistCTR,\n",
    "(38000000-COUNT(IsClick)) as IsClick,\n",
    "(38000000-COUNT(UserID)) as UserID,\n",
    "(38000000-COUNT(IsUserLoggedOn)) as IsUserLoggedOn,\n",
    "(38000000-COUNT(SearchQuery)) as SearchQuery,\n",
    "(38000000-COUNT(LocationID)) as LocationID,\n",
    "(38000000-COUNT(CategoryID)) as CategoryID,\n",
    "(38000000-COUNT(parsed_params)) as parsed_params,\n",
    "(38000000-COUNT(add_price)) as add_price,\n",
    "(38000000-COUNT(add_title)) as add_title,\n",
    "(38000000-COUNT(category_Level)) as category_Level,\n",
    "(38000000-COUNT(ParentCategoryID)) as ParentCategoryID,\n",
    "(38000000-COUNT(SubcategoryID)) as SubcategoryID,\n",
    "(38000000-COUNT(location_Level)) as location_Level,\n",
    "(38000000-COUNT(RegionID)) as RegionID,\n",
    "(38000000-COUNT(CityID)) as CityID,\n",
    "(38000000-COUNT(weekday_encoded)) as weekday_encoded,\n",
    "(38000000-COUNT(is_evening)) as is_evening,\n",
    "(38000000-COUNT(is_morning)) as is_morning,\n",
    "(38000000-COUNT(is_day)) as is_day,\n",
    "(38000000-COUNT(prev_AdID)) as prev_AdID,\n",
    "(38000000-COUNT(prev_parsed_params)) as prev_parsed_params\n",
    "FROM train_prep_1\n",
    "\"\"\")\n",
    "nanvals.toPandas()\n",
    "\n",
    "# for i in q.columns:\n",
    "#     print('(38000000-'+f'COUNT({i})) as {i},')"
   ]
  },
  {
   "cell_type": "markdown",
   "id": "c51d36df",
   "metadata": {},
   "source": [
    "`SearchQuery` - очень много пропусков в этом признаке"
   ]
  },
  {
   "cell_type": "code",
   "execution_count": null,
   "id": "a274736e",
   "metadata": {},
   "outputs": [],
   "source": []
  },
  {
   "cell_type": "code",
   "execution_count": 64,
   "id": "c6933d15",
   "metadata": {},
   "outputs": [
    {
     "data": {
      "text/html": [
       "<div>\n",
       "<style scoped>\n",
       "    .dataframe tbody tr th:only-of-type {\n",
       "        vertical-align: middle;\n",
       "    }\n",
       "\n",
       "    .dataframe tbody tr th {\n",
       "        vertical-align: top;\n",
       "    }\n",
       "\n",
       "    .dataframe thead th {\n",
       "        text-align: right;\n",
       "    }\n",
       "</style>\n",
       "<table border=\"1\" class=\"dataframe\">\n",
       "  <thead>\n",
       "    <tr style=\"text-align: right;\">\n",
       "      <th></th>\n",
       "      <th>avg(add_price)</th>\n",
       "    </tr>\n",
       "  </thead>\n",
       "  <tbody>\n",
       "    <tr>\n",
       "      <th>0</th>\n",
       "      <td>15084.018982</td>\n",
       "    </tr>\n",
       "  </tbody>\n",
       "</table>\n",
       "</div>"
      ],
      "text/plain": [
       "   avg(add_price)\n",
       "0    15084.018982"
      ]
     },
     "execution_count": 64,
     "metadata": {},
     "output_type": "execute_result"
    }
   ],
   "source": [
    "q = se.sql(\"\"\"\n",
    "SELECT AVG(add_price) -- будем заполнять цену средней ценой, тк не слишком много пропусков\n",
    "FROM train_prep_1\n",
    "\"\"\")\n",
    "q.toPandas()"
   ]
  },
  {
   "cell_type": "code",
   "execution_count": null,
   "id": "73b0a0a2",
   "metadata": {},
   "outputs": [],
   "source": []
  },
  {
   "cell_type": "markdown",
   "id": "99e40c09",
   "metadata": {},
   "source": [
    "Дальше некоторые фичи взяты по смыслу отсюда \n",
    "https://github.com/Gzsiceberg/kaggle-avito/blob/master/doc.pdf"
   ]
  },
  {
   "cell_type": "code",
   "execution_count": 83,
   "id": "7a6bae2f",
   "metadata": {},
   "outputs": [],
   "source": [
    "word_pattern = re.compile(r\"[0-9A-zА-яё_]+\")\n",
    "words_col1 = [match.group(0) for match in re.finditer(word_pattern, 'iphone одиннадцать 452 н23'.lower())]"
   ]
  },
  {
   "cell_type": "code",
   "execution_count": 84,
   "id": "3dfc10d3",
   "metadata": {},
   "outputs": [
    {
     "data": {
      "text/plain": [
       "['iphone', 'одиннадцать', '452', 'н23']"
      ]
     },
     "execution_count": 84,
     "metadata": {},
     "output_type": "execute_result"
    }
   ],
   "source": [
    "words_col1"
   ]
  },
  {
   "cell_type": "markdown",
   "id": "02cacb5a",
   "metadata": {},
   "source": [
    "#### Считаем сколько совпадений слов между querry и add_title"
   ]
  },
  {
   "cell_type": "code",
   "execution_count": 13,
   "id": "1b026975",
   "metadata": {},
   "outputs": [
    {
     "data": {
      "text/plain": [
       "<function __main__.intersect_num(raw_col1, raw_col2)>"
      ]
     },
     "execution_count": 13,
     "metadata": {},
     "output_type": "execute_result"
    }
   ],
   "source": [
    "def intersect_num(raw_col1, raw_col2):\n",
    "    if (raw_col1 is None) | (raw_col2 is None):\n",
    "        return 0\n",
    "    word_pattern = re.compile(r\"[0-9A-zА-яё_]+\")\n",
    "    words_col1 = [match.group(0) for match in re.finditer(word_pattern, raw_col1.lower())]\n",
    "    words_col2 = [match.group(0) for match in re.finditer(word_pattern, raw_col2.lower())]\n",
    "    \n",
    "    matched_words = len(set(words_col1) & set(words_col2))\n",
    "    \n",
    "    return matched_words\n",
    "se.udf.register(\"intersect_num\", intersect_num, 'int')  "
   ]
  },
  {
   "cell_type": "code",
   "execution_count": 176,
   "id": "d000de93",
   "metadata": {},
   "outputs": [
    {
     "data": {
      "text/html": [
       "<div>\n",
       "<style scoped>\n",
       "    .dataframe tbody tr th:only-of-type {\n",
       "        vertical-align: middle;\n",
       "    }\n",
       "\n",
       "    .dataframe tbody tr th {\n",
       "        vertical-align: top;\n",
       "    }\n",
       "\n",
       "    .dataframe thead th {\n",
       "        text-align: right;\n",
       "    }\n",
       "</style>\n",
       "<table border=\"1\" class=\"dataframe\">\n",
       "  <thead>\n",
       "    <tr style=\"text-align: right;\">\n",
       "      <th></th>\n",
       "      <th>SearchID</th>\n",
       "      <th>AdID</th>\n",
       "      <th>Position</th>\n",
       "      <th>HistCTR</th>\n",
       "      <th>IsClick</th>\n",
       "      <th>UserID</th>\n",
       "      <th>IsUserLoggedOn</th>\n",
       "      <th>SearchQuery</th>\n",
       "      <th>LocationID</th>\n",
       "      <th>CategoryID</th>\n",
       "      <th>parsed_params</th>\n",
       "      <th>add_price</th>\n",
       "      <th>add_title</th>\n",
       "      <th>category_Level</th>\n",
       "      <th>ParentCategoryID</th>\n",
       "      <th>SubcategoryID</th>\n",
       "      <th>location_Level</th>\n",
       "      <th>RegionID</th>\n",
       "      <th>CityID</th>\n",
       "      <th>weekday_encoded</th>\n",
       "      <th>is_evening</th>\n",
       "      <th>is_morning</th>\n",
       "      <th>is_day</th>\n",
       "      <th>prev_AdID</th>\n",
       "      <th>prev_parsed_params</th>\n",
       "      <th>SearchQuery</th>\n",
       "      <th>add_title</th>\n",
       "      <th>num</th>\n",
       "    </tr>\n",
       "  </thead>\n",
       "  <tbody>\n",
       "    <tr>\n",
       "      <th>0</th>\n",
       "      <td>78625368</td>\n",
       "      <td>31151820</td>\n",
       "      <td>1</td>\n",
       "      <td>0.028679</td>\n",
       "      <td>1</td>\n",
       "      <td>2914</td>\n",
       "      <td>0</td>\n",
       "      <td>None</td>\n",
       "      <td>3953</td>\n",
       "      <td>22</td>\n",
       "      <td>свадебные платья женская одежда</td>\n",
       "      <td>2600.0</td>\n",
       "      <td>Великолепное свадебное платье</td>\n",
       "      <td>3</td>\n",
       "      <td>3</td>\n",
       "      <td>47</td>\n",
       "      <td>2</td>\n",
       "      <td>47</td>\n",
       "      <td>1974</td>\n",
       "      <td>6</td>\n",
       "      <td>0</td>\n",
       "      <td>0</td>\n",
       "      <td>1</td>\n",
       "      <td>32093996.0</td>\n",
       "      <td>женская одежда</td>\n",
       "      <td>None</td>\n",
       "      <td>Великолепное свадебное платье</td>\n",
       "      <td>0</td>\n",
       "    </tr>\n",
       "    <tr>\n",
       "      <th>1</th>\n",
       "      <td>8694846</td>\n",
       "      <td>18215525</td>\n",
       "      <td>1</td>\n",
       "      <td>0.006160</td>\n",
       "      <td>1</td>\n",
       "      <td>10597</td>\n",
       "      <td>0</td>\n",
       "      <td>None</td>\n",
       "      <td>1270</td>\n",
       "      <td>38</td>\n",
       "      <td>кровати диваны и кресла</td>\n",
       "      <td>16800.0</td>\n",
       "      <td>Марракеш диван угловой еврокнижка новый</td>\n",
       "      <td>3</td>\n",
       "      <td>9</td>\n",
       "      <td>44</td>\n",
       "      <td>2</td>\n",
       "      <td>56</td>\n",
       "      <td>2354</td>\n",
       "      <td>2</td>\n",
       "      <td>1</td>\n",
       "      <td>0</td>\n",
       "      <td>0</td>\n",
       "      <td>10283093.0</td>\n",
       "      <td>кровати диваны и кресла</td>\n",
       "      <td>None</td>\n",
       "      <td>Марракеш диван угловой еврокнижка новый</td>\n",
       "      <td>0</td>\n",
       "    </tr>\n",
       "    <tr>\n",
       "      <th>2</th>\n",
       "      <td>39218735</td>\n",
       "      <td>22067752</td>\n",
       "      <td>1</td>\n",
       "      <td>0.008304</td>\n",
       "      <td>1</td>\n",
       "      <td>32165</td>\n",
       "      <td>0</td>\n",
       "      <td>None</td>\n",
       "      <td>3939</td>\n",
       "      <td>34</td>\n",
       "      <td>шины диски и колёса колёса</td>\n",
       "      <td>9200.0</td>\n",
       "      <td>Диск колесный с шиной</td>\n",
       "      <td>3</td>\n",
       "      <td>6</td>\n",
       "      <td>7</td>\n",
       "      <td>3</td>\n",
       "      <td>16</td>\n",
       "      <td>3581</td>\n",
       "      <td>3</td>\n",
       "      <td>1</td>\n",
       "      <td>0</td>\n",
       "      <td>0</td>\n",
       "      <td>24728248.0</td>\n",
       "      <td>шины диски и колёса</td>\n",
       "      <td>None</td>\n",
       "      <td>Диск колесный с шиной</td>\n",
       "      <td>0</td>\n",
       "    </tr>\n",
       "    <tr>\n",
       "      <th>3</th>\n",
       "      <td>99492563</td>\n",
       "      <td>22067752</td>\n",
       "      <td>1</td>\n",
       "      <td>0.005652</td>\n",
       "      <td>1</td>\n",
       "      <td>32165</td>\n",
       "      <td>0</td>\n",
       "      <td>None</td>\n",
       "      <td>3939</td>\n",
       "      <td>34</td>\n",
       "      <td>шины диски и колёса колёса</td>\n",
       "      <td>9200.0</td>\n",
       "      <td>Диск колесный с шиной</td>\n",
       "      <td>3</td>\n",
       "      <td>6</td>\n",
       "      <td>7</td>\n",
       "      <td>3</td>\n",
       "      <td>16</td>\n",
       "      <td>3581</td>\n",
       "      <td>4</td>\n",
       "      <td>1</td>\n",
       "      <td>0</td>\n",
       "      <td>0</td>\n",
       "      <td>24728248.0</td>\n",
       "      <td>шины диски и колёса колёса</td>\n",
       "      <td>None</td>\n",
       "      <td>Диск колесный с шиной</td>\n",
       "      <td>0</td>\n",
       "    </tr>\n",
       "    <tr>\n",
       "      <th>4</th>\n",
       "      <td>57271583</td>\n",
       "      <td>13558903</td>\n",
       "      <td>1</td>\n",
       "      <td>0.042407</td>\n",
       "      <td>1</td>\n",
       "      <td>33243</td>\n",
       "      <td>0</td>\n",
       "      <td>None</td>\n",
       "      <td>3350</td>\n",
       "      <td>47</td>\n",
       "      <td>автомобильные кресла</td>\n",
       "      <td>1550.0</td>\n",
       "      <td>Детское автокресло</td>\n",
       "      <td>3</td>\n",
       "      <td>3</td>\n",
       "      <td>28</td>\n",
       "      <td>3</td>\n",
       "      <td>30</td>\n",
       "      <td>3002</td>\n",
       "      <td>7</td>\n",
       "      <td>0</td>\n",
       "      <td>1</td>\n",
       "      <td>0</td>\n",
       "      <td>NaN</td>\n",
       "      <td>None</td>\n",
       "      <td>None</td>\n",
       "      <td>Детское автокресло</td>\n",
       "      <td>0</td>\n",
       "    </tr>\n",
       "  </tbody>\n",
       "</table>\n",
       "</div>"
      ],
      "text/plain": [
       "   SearchID      AdID  Position   HistCTR  IsClick  UserID  IsUserLoggedOn  \\\n",
       "0  78625368  31151820         1  0.028679        1    2914               0   \n",
       "1   8694846  18215525         1  0.006160        1   10597               0   \n",
       "2  39218735  22067752         1  0.008304        1   32165               0   \n",
       "3  99492563  22067752         1  0.005652        1   32165               0   \n",
       "4  57271583  13558903         1  0.042407        1   33243               0   \n",
       "\n",
       "  SearchQuery  LocationID  CategoryID                    parsed_params  \\\n",
       "0        None        3953          22  свадебные платья женская одежда   \n",
       "1        None        1270          38          кровати диваны и кресла   \n",
       "2        None        3939          34       шины диски и колёса колёса   \n",
       "3        None        3939          34       шины диски и колёса колёса   \n",
       "4        None        3350          47             автомобильные кресла   \n",
       "\n",
       "   add_price                                add_title  category_Level  \\\n",
       "0     2600.0            Великолепное свадебное платье               3   \n",
       "1    16800.0  Марракеш диван угловой еврокнижка новый               3   \n",
       "2     9200.0                    Диск колесный с шиной               3   \n",
       "3     9200.0                    Диск колесный с шиной               3   \n",
       "4     1550.0                       Детское автокресло               3   \n",
       "\n",
       "   ParentCategoryID  SubcategoryID  location_Level  RegionID  CityID  \\\n",
       "0                 3             47               2        47    1974   \n",
       "1                 9             44               2        56    2354   \n",
       "2                 6              7               3        16    3581   \n",
       "3                 6              7               3        16    3581   \n",
       "4                 3             28               3        30    3002   \n",
       "\n",
       "   weekday_encoded  is_evening  is_morning  is_day   prev_AdID  \\\n",
       "0                6           0           0       1  32093996.0   \n",
       "1                2           1           0       0  10283093.0   \n",
       "2                3           1           0       0  24728248.0   \n",
       "3                4           1           0       0  24728248.0   \n",
       "4                7           0           1       0         NaN   \n",
       "\n",
       "           prev_parsed_params SearchQuery  \\\n",
       "0              женская одежда        None   \n",
       "1     кровати диваны и кресла        None   \n",
       "2         шины диски и колёса        None   \n",
       "3  шины диски и колёса колёса        None   \n",
       "4                        None        None   \n",
       "\n",
       "                                 add_title  num  \n",
       "0            Великолепное свадебное платье    0  \n",
       "1  Марракеш диван угловой еврокнижка новый    0  \n",
       "2                    Диск колесный с шиной    0  \n",
       "3                    Диск колесный с шиной    0  \n",
       "4                       Детское автокресло    0  "
      ]
     },
     "execution_count": 176,
     "metadata": {},
     "output_type": "execute_result"
    }
   ],
   "source": [
    "q = se.sql(\"\"\"\n",
    "SELECT *, SearchQuery, add_title, intersect_num(SearchQuery, add_title) num\n",
    "FROM train_prep_1\n",
    "WHERE (SearchQuery IS NULL) AND IsClick = 1\n",
    "limit 5\n",
    "\"\"\")\n",
    "q.toPandas()"
   ]
  },
  {
   "cell_type": "code",
   "execution_count": null,
   "id": "4147162c",
   "metadata": {},
   "outputs": [],
   "source": []
  },
  {
   "cell_type": "markdown",
   "id": "f85cb93d",
   "metadata": {},
   "source": [
    "#### Средняя цена объявления во время сессии"
   ]
  },
  {
   "cell_type": "code",
   "execution_count": 136,
   "id": "ba807796",
   "metadata": {},
   "outputs": [],
   "source": [
    "avg_session_price_train = se.sql(\"\"\"\n",
    "SELECT SearchID, AVG(add_price) session_avg_price\n",
    "FROM train_prep_1\n",
    "GROUP BY SearchID\n",
    "\"\"\")"
   ]
  },
  {
   "cell_type": "code",
   "execution_count": 137,
   "id": "cd87cde5",
   "metadata": {},
   "outputs": [
    {
     "name": "stdout",
     "output_type": "stream",
     "text": [
      "CPU times: user 3.72 ms, sys: 0 ns, total: 3.72 ms\n",
      "Wall time: 27.7 s\n"
     ]
    }
   ],
   "source": [
    "%%time\n",
    "avg_session_price_train.write.format('overwrite').parquet(\"/user/hw3_small_vw/avg_session_price_train.parquet\")"
   ]
  },
  {
   "cell_type": "code",
   "execution_count": 134,
   "id": "54398ecb",
   "metadata": {},
   "outputs": [],
   "source": [
    "avg_session_price_test = se.sql(\"\"\"\n",
    "SELECT SearchID, AVG(add_price) session_avg_price\n",
    "FROM test_prep_1\n",
    "GROUP BY SearchID\n",
    "\"\"\")"
   ]
  },
  {
   "cell_type": "code",
   "execution_count": 135,
   "id": "dc1186b9",
   "metadata": {},
   "outputs": [
    {
     "name": "stdout",
     "output_type": "stream",
     "text": [
      "CPU times: user 2.99 ms, sys: 0 ns, total: 2.99 ms\n",
      "Wall time: 17.5 s\n"
     ]
    }
   ],
   "source": [
    "%%time\n",
    "avg_session_price_test.write.format('overwrite').parquet(\"/user/hw3_small_vw/avg_session_price_test.parquet\")"
   ]
  },
  {
   "cell_type": "code",
   "execution_count": 14,
   "id": "b42c57d6",
   "metadata": {},
   "outputs": [],
   "source": [
    "#читаем данные\n",
    "avg_session_price_train = se.read.parquet(\"/user/hw3_small_vw/avg_session_price_train.parquet\")\n",
    "avg_session_price_test = se.read.parquet(\"/user/hw3_small_vw/avg_session_price_test.parquet\")\n",
    "\n",
    "avg_session_price_train.registerTempTable(\"avg_session_price_train\")\n",
    "avg_session_price_test.registerTempTable(\"avg_session_price_test\")"
   ]
  },
  {
   "cell_type": "code",
   "execution_count": null,
   "id": "ac158000",
   "metadata": {},
   "outputs": [],
   "source": []
  },
  {
   "cell_type": "markdown",
   "id": "0e4f67c9",
   "metadata": {},
   "source": [
    "#### User Click_rate"
   ]
  },
  {
   "cell_type": "code",
   "execution_count": 92,
   "id": "63466cae",
   "metadata": {},
   "outputs": [],
   "source": [
    "# 2_278_561 уникальных юзеров\n",
    "avg_clicrate = se.sql(\"\"\"\n",
    "SELECT UserID, AVG(HistCTR) avg_ctr_of_user\n",
    "FROM train_prep_1\n",
    "group by UserID\n",
    "\"\"\")"
   ]
  },
  {
   "cell_type": "code",
   "execution_count": 93,
   "id": "aa0cc9db",
   "metadata": {},
   "outputs": [
    {
     "name": "stdout",
     "output_type": "stream",
     "text": [
      "CPU times: user 235 µs, sys: 3.9 ms, total: 4.14 ms\n",
      "Wall time: 19.7 s\n"
     ]
    }
   ],
   "source": [
    "%%time\n",
    "avg_clicrate.write.format('overwrite').parquet(\"/user/hw3_small_vw/avg_clicrate.parquet\")"
   ]
  },
  {
   "cell_type": "code",
   "execution_count": 94,
   "id": "06c1078b",
   "metadata": {},
   "outputs": [],
   "source": [
    "avg_clicrate_test = se.sql(\"\"\"\n",
    "SELECT UserID, AVG(HistCTR) avg_ctr_of_user\n",
    "FROM test_prep_1\n",
    "group by UserID\n",
    "\"\"\")"
   ]
  },
  {
   "cell_type": "code",
   "execution_count": 95,
   "id": "1c7ff785",
   "metadata": {},
   "outputs": [
    {
     "name": "stdout",
     "output_type": "stream",
     "text": [
      "CPU times: user 3.15 ms, sys: 0 ns, total: 3.15 ms\n",
      "Wall time: 13.3 s\n"
     ]
    }
   ],
   "source": [
    "%%time\n",
    "avg_clicrate_test.write.format('overwrite').parquet(\"/user/hw3_small_vw/avg_clicrate_test.parquet\")"
   ]
  },
  {
   "cell_type": "code",
   "execution_count": 15,
   "id": "948a44b6",
   "metadata": {},
   "outputs": [],
   "source": [
    "#читаем данные\n",
    "avg_clicrate = se.read.parquet(\"/user/hw3_small_vw/avg_clicrate.parquet\")\n",
    "avg_clicrate_test = se.read.parquet(\"/user/hw3_small_vw/avg_clicrate_test.parquet\")\n",
    "\n",
    "avg_clicrate.registerTempTable(\"avg_clicrate\")\n",
    "avg_clicrate_test.registerTempTable(\"avg_clicrate_test\")"
   ]
  },
  {
   "cell_type": "markdown",
   "id": "15ebfce9",
   "metadata": {},
   "source": [
    "#### Length of add title"
   ]
  },
  {
   "cell_type": "code",
   "execution_count": 32,
   "id": "d0797356",
   "metadata": {},
   "outputs": [
    {
     "data": {
      "text/plain": [
       "<function __main__.title_len(raw_value)>"
      ]
     },
     "execution_count": 32,
     "metadata": {},
     "output_type": "execute_result"
    }
   ],
   "source": [
    "def title_len(raw_value):\n",
    "    if raw_value is not None:\n",
    "        return len(raw_value)\n",
    "    else:\n",
    "        return 0\n",
    "se.udf.register(\"title_len\", title_len, 'int') "
   ]
  },
  {
   "cell_type": "code",
   "execution_count": 109,
   "id": "84b16520",
   "metadata": {},
   "outputs": [
    {
     "data": {
      "text/html": [
       "<div>\n",
       "<style scoped>\n",
       "    .dataframe tbody tr th:only-of-type {\n",
       "        vertical-align: middle;\n",
       "    }\n",
       "\n",
       "    .dataframe tbody tr th {\n",
       "        vertical-align: top;\n",
       "    }\n",
       "\n",
       "    .dataframe thead th {\n",
       "        text-align: right;\n",
       "    }\n",
       "</style>\n",
       "<table border=\"1\" class=\"dataframe\">\n",
       "  <thead>\n",
       "    <tr style=\"text-align: right;\">\n",
       "      <th></th>\n",
       "      <th>add_title</th>\n",
       "      <th>title_length</th>\n",
       "    </tr>\n",
       "  </thead>\n",
       "  <tbody>\n",
       "    <tr>\n",
       "      <th>0</th>\n",
       "      <td>Детское автокрепло</td>\n",
       "      <td>18</td>\n",
       "    </tr>\n",
       "    <tr>\n",
       "      <th>1</th>\n",
       "      <td>Автомобильное кресло Stiony 513 Blue</td>\n",
       "      <td>36</td>\n",
       "    </tr>\n",
       "    <tr>\n",
       "      <th>2</th>\n",
       "      <td>Sony C6603 (Xperia Z) с тачскрином Черный</td>\n",
       "      <td>41</td>\n",
       "    </tr>\n",
       "    <tr>\n",
       "      <th>3</th>\n",
       "      <td>Монопод для iphone 750р - акция</td>\n",
       "      <td>31</td>\n",
       "    </tr>\n",
       "    <tr>\n",
       "      <th>4</th>\n",
       "      <td>Платье People с доставкой</td>\n",
       "      <td>25</td>\n",
       "    </tr>\n",
       "  </tbody>\n",
       "</table>\n",
       "</div>"
      ],
      "text/plain": [
       "                                   add_title  title_length\n",
       "0                         Детское автокрепло            18\n",
       "1       Автомобильное кресло Stiony 513 Blue            36\n",
       "2  Sony C6603 (Xperia Z) с тачскрином Черный            41\n",
       "3            Монопод для iphone 750р - акция            31\n",
       "4                  Платье People с доставкой            25"
      ]
     },
     "execution_count": 109,
     "metadata": {},
     "output_type": "execute_result"
    }
   ],
   "source": [
    "q = se.sql(\"\"\"\n",
    "SELECT add_title, title_len(add_title) title_length\n",
    "FROM test_prep_1\n",
    "limit 5\n",
    "\"\"\")\n",
    "q.toPandas()"
   ]
  },
  {
   "cell_type": "markdown",
   "id": "1d7bc8a7",
   "metadata": {},
   "source": [
    "#### User search count"
   ]
  },
  {
   "cell_type": "code",
   "execution_count": 121,
   "id": "783eefe3",
   "metadata": {},
   "outputs": [],
   "source": [
    "user_search_count_train = se.sql(\"\"\"\n",
    "SELECT UserID, count(DISTINCT SearchID) user_search_count\n",
    "FROM train_prep_1\n",
    "group by UserID\n",
    "\"\"\")"
   ]
  },
  {
   "cell_type": "code",
   "execution_count": 122,
   "id": "5fd66f1f",
   "metadata": {},
   "outputs": [
    {
     "name": "stdout",
     "output_type": "stream",
     "text": [
      "CPU times: user 4.33 ms, sys: 93 µs, total: 4.42 ms\n",
      "Wall time: 33.6 s\n"
     ]
    }
   ],
   "source": [
    "%%time\n",
    "user_search_count_train.write.format('overwrite').parquet(\"/user/hw3_small_vw/user_search_count_train.parquet\")"
   ]
  },
  {
   "cell_type": "code",
   "execution_count": 119,
   "id": "1ea202aa",
   "metadata": {},
   "outputs": [],
   "source": [
    "user_search_count_test = se.sql(\"\"\"\n",
    "SELECT UserID, count(DISTINCT SearchID) user_search_count\n",
    "FROM test_prep_1\n",
    "group by UserID\n",
    "\"\"\")"
   ]
  },
  {
   "cell_type": "code",
   "execution_count": 120,
   "id": "550a0226",
   "metadata": {},
   "outputs": [
    {
     "name": "stdout",
     "output_type": "stream",
     "text": [
      "CPU times: user 3.03 ms, sys: 0 ns, total: 3.03 ms\n",
      "Wall time: 15.7 s\n"
     ]
    }
   ],
   "source": [
    "%%time\n",
    "user_search_count_test.write.format('overwrite').parquet(\"/user/hw3_small_vw/user_search_count_test.parquet\")"
   ]
  },
  {
   "cell_type": "code",
   "execution_count": 16,
   "id": "58c99d24",
   "metadata": {},
   "outputs": [],
   "source": [
    "#читаем данные\n",
    "user_search_count_train = se.read.parquet(\"/user/hw3_small_vw/user_search_count_train.parquet\")\n",
    "user_search_count_test = se.read.parquet(\"/user/hw3_small_vw/user_search_count_test.parquet\")\n",
    "\n",
    "user_search_count_train.registerTempTable(\"user_search_count_train\")\n",
    "user_search_count_test.registerTempTable(\"user_search_count_test\")"
   ]
  },
  {
   "cell_type": "markdown",
   "id": "2d810e7a",
   "metadata": {},
   "source": [
    "#### user click counts"
   ]
  },
  {
   "cell_type": "code",
   "execution_count": 166,
   "id": "88ded698",
   "metadata": {},
   "outputs": [],
   "source": [
    "click_counts = se.sql(\n",
    "\"\"\"SELECT UserID, COUNT(IsClick) click_counts\n",
    "FROM train_prep_1\n",
    "GROUP BY UserID\n",
    "\"\"\")"
   ]
  },
  {
   "cell_type": "code",
   "execution_count": 167,
   "id": "9aac7310",
   "metadata": {},
   "outputs": [
    {
     "name": "stdout",
     "output_type": "stream",
     "text": [
      "CPU times: user 2.36 ms, sys: 0 ns, total: 2.36 ms\n",
      "Wall time: 11.9 s\n"
     ]
    }
   ],
   "source": [
    "%%time\n",
    "click_counts.write.format('overwrite').parquet(\"/user/hw3_small_vw/click_counts.parquet\")"
   ]
  },
  {
   "cell_type": "code",
   "execution_count": 168,
   "id": "390cdaf8",
   "metadata": {},
   "outputs": [],
   "source": [
    "click_counts = se.read.parquet(\"/user/hw3_small_vw/click_counts.parquet\")\n",
    "click_counts.registerTempTable(\"click_counts\")"
   ]
  },
  {
   "cell_type": "code",
   "execution_count": 174,
   "id": "59b6ded9",
   "metadata": {},
   "outputs": [],
   "source": [
    "# q = se.sql(\n",
    "# \"\"\"SELECT *\n",
    "# FROM test_prep_1 tp\n",
    "# LEFT JOIN click_counts cc \n",
    "# ON cc.UserID = tp.UserID\n",
    "# where click_counts is null\n",
    "# LIMIT 10\n",
    "# \"\"\")\n",
    "# q.toPandas()"
   ]
  },
  {
   "cell_type": "markdown",
   "id": "4495f1bf",
   "metadata": {},
   "source": [
    "Этот признак не стал использовать, тк непонятно, что делать с nan "
   ]
  },
  {
   "cell_type": "code",
   "execution_count": null,
   "id": "f7eb43cb",
   "metadata": {},
   "outputs": [],
   "source": []
  },
  {
   "cell_type": "markdown",
   "id": "195211ff",
   "metadata": {},
   "source": [
    "### Соединяем фичи"
   ]
  },
  {
   "cell_type": "code",
   "execution_count": 60,
   "id": "c8c43c79",
   "metadata": {},
   "outputs": [],
   "source": [
    "train_prep_2 = se.sql(\"\"\"\n",
    "SELECT \n",
    "\n",
    "intersect_num(SearchQuery, add_title) n_matches_in_q,\n",
    "intersect_num(parsed_params, prev_parsed_params) n_matches_in_params,\n",
    "\n",
    "-- aspt.session_avg_price,\n",
    "ac.avg_ctr_of_user,\n",
    "title_len(add_title) title_length,\n",
    "\n",
    "lower(add_title) add_title,\n",
    "\n",
    "usct.user_search_count,\n",
    "\n",
    "tp.SearchID,\n",
    "tp.UserID,\n",
    "\n",
    "CASE\n",
    "WHEN SearchQuery IS NULL THEN 0\n",
    "ELSE 1\n",
    "END AS has_query,\n",
    "\n",
    "-- SearchQuery, -- саму эту колонку не бедем использовать\n",
    "\n",
    "CASE \n",
    "WHEN parsed_params IS NULL THEN 'no'\n",
    "ELSE parsed_params\n",
    "END AS parsed_params,\n",
    "\n",
    "CASE \n",
    "WHEN prev_parsed_params IS NULL THEN 'no'\n",
    "ELSE prev_parsed_params\n",
    "END AS prev_parsed_params,\n",
    "\n",
    "AdID,\n",
    "Position,\n",
    "HistCTR,\n",
    "IsUserLoggedOn,\n",
    "LocationID,\n",
    "CategoryID,\n",
    "\n",
    "CASE \n",
    "WHEN add_price IS NULL THEN 15084 / aspt.session_avg_price\n",
    "ELSE add_price / aspt.session_avg_price\n",
    "END AS add_price_session_ratio,\n",
    "\n",
    "weekday_encoded,\n",
    "is_evening,\n",
    "is_morning,\n",
    "\n",
    "CASE \n",
    "WHEN prev_AdID IS NULL THEN 'no'\n",
    "ELSE prev_AdID\n",
    "END AS prev_AdID,\n",
    "\n",
    "IsClick\n",
    "\n",
    "FROM train_prep_1 tp\n",
    "\n",
    "LEFT JOIN avg_session_price_train aspt\n",
    "ON tp.SearchID = aspt.SearchID\n",
    "\n",
    "LEFT JOIN avg_clicrate ac\n",
    "ON tp.UserID = ac.UserID\n",
    "\n",
    "LEFT JOIN user_search_count_train usct\n",
    "ON tp.UserID = usct.UserID\n",
    "\"\"\")"
   ]
  },
  {
   "cell_type": "code",
   "execution_count": 61,
   "id": "f2773584",
   "metadata": {},
   "outputs": [
    {
     "name": "stdout",
     "output_type": "stream",
     "text": [
      "CPU times: user 30.3 ms, sys: 18 ms, total: 48.2 ms\n",
      "Wall time: 5min 12s\n"
     ]
    }
   ],
   "source": [
    "%%time\n",
    "train_prep_2.write.format('overwrite').parquet(\"/user/hw3_small_vw/train_prep_2.parquet\")"
   ]
  },
  {
   "cell_type": "code",
   "execution_count": 62,
   "id": "56dd8829",
   "metadata": {},
   "outputs": [],
   "source": [
    "train_prep_2 = se.read.parquet(\"/user/hw3_small_vw/train_prep_2.parquet\")\n",
    "train_prep_2.registerTempTable(\"train_prep_2\")"
   ]
  },
  {
   "cell_type": "code",
   "execution_count": 63,
   "id": "082369d4",
   "metadata": {},
   "outputs": [],
   "source": [
    "# разделяем на трейн и локальную тестовую выборку\n",
    "train, local_test = train_prep_2.randomSplit([0.9, 0.1], 422)"
   ]
  },
  {
   "cell_type": "code",
   "execution_count": 64,
   "id": "729a8eb3",
   "metadata": {},
   "outputs": [
    {
     "name": "stdout",
     "output_type": "stream",
     "text": [
      "CPU times: user 1.59 ms, sys: 3.42 ms, total: 5 ms\n",
      "Wall time: 41.2 s\n"
     ]
    }
   ],
   "source": [
    "%%time\n",
    "train.write.format('overwrite').parquet(\"/user/hw3_small_vw/train.parquet\")"
   ]
  },
  {
   "cell_type": "code",
   "execution_count": 65,
   "id": "0c8350e5",
   "metadata": {},
   "outputs": [
    {
     "name": "stdout",
     "output_type": "stream",
     "text": [
      "CPU times: user 2.84 ms, sys: 699 µs, total: 3.53 ms\n",
      "Wall time: 18.8 s\n"
     ]
    }
   ],
   "source": [
    "%%time\n",
    "local_test.write.format('overwrite').parquet(\"/user/hw3_small_vw/local_test.parquet\")"
   ]
  },
  {
   "cell_type": "code",
   "execution_count": 66,
   "id": "092a12a3",
   "metadata": {},
   "outputs": [],
   "source": [
    "#читаем данные\n",
    "train = se.read.parquet(\"/user/hw3_small_vw/train.parquet\")\n",
    "train.registerTempTable(\"train\")\n",
    "\n",
    "local_test = se.read.parquet(\"/user/hw3_small_vw/local_test.parquet\")\n",
    "local_test.registerTempTable(\"local_test\")"
   ]
  },
  {
   "cell_type": "code",
   "execution_count": null,
   "id": "56e79b2e",
   "metadata": {},
   "outputs": [],
   "source": []
  },
  {
   "cell_type": "markdown",
   "id": "528c0de1",
   "metadata": {},
   "source": [
    "Kaggle test"
   ]
  },
  {
   "cell_type": "code",
   "execution_count": 41,
   "id": "b3c903a6",
   "metadata": {},
   "outputs": [],
   "source": [
    "test_prep_2 = se.sql(\"\"\"\n",
    "SELECT \n",
    "ID,\n",
    "\n",
    "intersect_num(SearchQuery, add_title) n_matches_in_q,\n",
    "intersect_num(parsed_params, prev_parsed_params) n_matches_in_params,\n",
    "\n",
    "-- aspt.session_avg_price,\n",
    "ac.avg_ctr_of_user,\n",
    "title_len(add_title) title_length,\n",
    "\n",
    "lower(add_title) add_title,\n",
    "\n",
    "usct.user_search_count,\n",
    "\n",
    "tp.SearchID,\n",
    "tp.UserID,\n",
    "\n",
    "\n",
    "CASE\n",
    "WHEN SearchQuery IS NULL THEN 0\n",
    "ELSE 1\n",
    "END AS has_query,\n",
    "\n",
    "-- SearchQuery, -- саму эту колонку не бедем использовать\n",
    "\n",
    "CASE \n",
    "WHEN parsed_params IS NULL THEN 'no'\n",
    "ELSE parsed_params\n",
    "END AS parsed_params,\n",
    "\n",
    "CASE \n",
    "WHEN prev_parsed_params IS NULL THEN 'no'\n",
    "ELSE prev_parsed_params\n",
    "END AS prev_parsed_params,\n",
    "\n",
    "AdID,\n",
    "Position,\n",
    "HistCTR,\n",
    "IsUserLoggedOn,\n",
    "LocationID,\n",
    "CategoryID,\n",
    "\n",
    "CASE \n",
    "WHEN add_price IS NULL THEN 15084 / aspt.session_avg_price\n",
    "ELSE add_price / aspt.session_avg_price\n",
    "END AS add_price_session_ratio,\n",
    "\n",
    "weekday_encoded,\n",
    "is_evening,\n",
    "is_morning,\n",
    "\n",
    "CASE \n",
    "WHEN prev_AdID IS NULL THEN 'no'\n",
    "ELSE prev_AdID\n",
    "END AS prev_AdID\n",
    "\n",
    "FROM test_prep_1 tp\n",
    "\n",
    "LEFT JOIN avg_session_price_test aspt\n",
    "ON tp.SearchID = aspt.SearchID\n",
    "\n",
    "LEFT JOIN avg_clicrate_test ac\n",
    "ON tp.UserID = ac.UserID\n",
    "\n",
    "LEFT JOIN user_search_count_test usct\n",
    "ON tp.UserID = usct.UserID\n",
    "\"\"\")"
   ]
  },
  {
   "cell_type": "code",
   "execution_count": 43,
   "id": "959a09c7",
   "metadata": {},
   "outputs": [
    {
     "name": "stdout",
     "output_type": "stream",
     "text": [
      "CPU times: user 15 ms, sys: 12 ms, total: 27 ms\n",
      "Wall time: 1min 11s\n"
     ]
    }
   ],
   "source": [
    "%%time\n",
    "test_prep_2.write.format('overwrite').parquet(\"/user/hw3_small_vw/test_prep_2.parquet\")"
   ]
  },
  {
   "cell_type": "code",
   "execution_count": 45,
   "id": "a646255d",
   "metadata": {},
   "outputs": [],
   "source": [
    "test_prep_2 = se.read.parquet(\"/user/hw3_small_vw/test_prep_2.parquet\")\n",
    "test_prep_2.registerTempTable(\"test_prep_2\")"
   ]
  },
  {
   "cell_type": "code",
   "execution_count": null,
   "id": "e792f7c3",
   "metadata": {},
   "outputs": [],
   "source": []
  },
  {
   "cell_type": "markdown",
   "id": "e377c689",
   "metadata": {},
   "source": [
    "### Финальные датасеты"
   ]
  },
  {
   "cell_type": "code",
   "execution_count": 220,
   "id": "9f45b29d",
   "metadata": {},
   "outputs": [],
   "source": [
    "kaggle_test = se.sql(\n",
    "\"\"\"\n",
    "SELECT \n",
    "-- ID,\n",
    "-- add_title,\n",
    "-- SearchID,\n",
    "-- SearchQuery,\n",
    "-- AdID,\n",
    "-- prev_AdID\n",
    "\n",
    "UserID,\n",
    "n_matches_in_q,\n",
    "n_matches_in_params,\n",
    "avg_ctr_of_user,\n",
    "title_length,\n",
    "user_search_count,\n",
    "has_query,\n",
    "parsed_params,\n",
    "prev_parsed_params,\n",
    "Position,\n",
    "HistCTR,\n",
    "IsUserLoggedOn,\n",
    "LocationID,\n",
    "CategoryID,\n",
    "add_price_session_ratio,\n",
    "weekday_encoded,\n",
    "is_evening,\n",
    "is_morning\n",
    "\n",
    "FROM test_prep_2 -- kaggle\n",
    "-- LIMIT 50\n",
    "\"\"\")\n",
    "kaggle_test.registerTempTable(\"kaggle_test\")"
   ]
  },
  {
   "cell_type": "code",
   "execution_count": 221,
   "id": "b096b524",
   "metadata": {},
   "outputs": [],
   "source": [
    "train_1 = se.sql(\n",
    "\"\"\"\n",
    "SELECT \n",
    "-- ID,\n",
    "-- add_title,\n",
    "-- SearchID,\n",
    "-- SearchQuery,\n",
    "-- AdID,\n",
    "-- prev_AdID\n",
    "\n",
    "UserID,\n",
    "n_matches_in_q,\n",
    "n_matches_in_params,\n",
    "avg_ctr_of_user,\n",
    "title_length,\n",
    "user_search_count,\n",
    "has_query,\n",
    "parsed_params,\n",
    "prev_parsed_params,\n",
    "Position,\n",
    "HistCTR,\n",
    "IsUserLoggedOn,\n",
    "LocationID,\n",
    "CategoryID,\n",
    "add_price_session_ratio,\n",
    "weekday_encoded,\n",
    "is_evening,\n",
    "is_morning,\n",
    "IsClick\n",
    "\n",
    "FROM train\n",
    "-- LIMIT 50\n",
    "\"\"\")\n",
    "train_1.registerTempTable(\"train_1\")"
   ]
  },
  {
   "cell_type": "code",
   "execution_count": 222,
   "id": "5d3174c9",
   "metadata": {},
   "outputs": [],
   "source": [
    "local_test_1 = se.sql(\n",
    "\"\"\"\n",
    "SELECT \n",
    "-- ID,\n",
    "-- add_title,\n",
    "-- SearchID,\n",
    "-- SearchQuery,\n",
    "-- AdID,\n",
    "-- prev_AdID\n",
    "\n",
    "UserID,\n",
    "n_matches_in_q,\n",
    "n_matches_in_params,\n",
    "avg_ctr_of_user,\n",
    "title_length,\n",
    "user_search_count,\n",
    "has_query,\n",
    "parsed_params,\n",
    "prev_parsed_params,\n",
    "Position,\n",
    "HistCTR,\n",
    "IsUserLoggedOn,\n",
    "LocationID,\n",
    "CategoryID,\n",
    "add_price_session_ratio,\n",
    "weekday_encoded,\n",
    "is_evening,\n",
    "is_morning,\n",
    "IsClick\n",
    "\n",
    "FROM local_test\n",
    "-- LIMIT 1000000\n",
    "\"\"\")\n",
    "local_test_1.registerTempTable(\"local_test_1\")"
   ]
  },
  {
   "cell_type": "markdown",
   "id": "7c6a37ca",
   "metadata": {},
   "source": [
    "### Переводим в VW кодировку"
   ]
  },
  {
   "cell_type": "code",
   "execution_count": 175,
   "id": "f78af80b",
   "metadata": {},
   "outputs": [
    {
     "ename": "SyntaxError",
     "evalue": "EOL while scanning string literal (<ipython-input-175-c5cea2c68ae6>, line 3)",
     "output_type": "error",
     "traceback": [
      "\u001b[0;36m  File \u001b[0;32m\"<ipython-input-175-c5cea2c68ae6>\"\u001b[0;36m, line \u001b[0;32m3\u001b[0m\n\u001b[0;31m    template = f\"{target}\u001b[0m\n\u001b[0m                          ^\u001b[0m\n\u001b[0;31mSyntaxError\u001b[0m\u001b[0;31m:\u001b[0m EOL while scanning string literal\n"
     ]
    }
   ],
   "source": [
    "# параметры для vw\n",
    "\n",
    "template = f\"{target} \n",
    "|a n_matches_in_q:{n_matches_in_q}\n",
    "|b n_matches_in_params:{n_matches_in_params}\n",
    "|c avg_ctr_of_user:{avg_ctr_of_user}\n",
    "|d title_length:{title_length}\n",
    "|e user_search_count:{user_search_count}\n",
    "|f {has_query}\n",
    "|g {parsed_params}\n",
    "|h {prev_parsed_params}\n",
    "|i {Position}\n",
    "|j HistCTR:{HistCTR}\n",
    "|k {IsUserLoggedOn}\n",
    "|l {LocationID}\n",
    "|m {CategoryID}\n",
    "|n add_price_session_ratio:{add_price_session_ratio}\n",
    "|o {weekday_encoded}\n",
    "|p {is_evening}\n",
    "|q {is_morning}\n",
    "|s {UserID}\"\n",
    "\n",
    "\n",
    "template = f\"{target} |a n_matches_in_q:{n_matches_in_q} |b n_matches_in_params:{n_matches_in_params} |c avg_ctr_of_user:{avg_ctr_of_user} |d title_length:{title_length} |e user_search_count:{user_search_count} |f {has_query} |g {parsed_params} |h {prev_parsed_params} |i {Position} |j HistCTR:{HistCTR} |k {IsUserLoggedOn} |l {LocationID} |m {CategoryID} |n add_price_session_ratio:{add_price_session_ratio} |o {weekday_encoded} |p {is_evening} |q {is_morning}\""
   ]
  },
  {
   "cell_type": "code",
   "execution_count": 223,
   "id": "900a29d2",
   "metadata": {},
   "outputs": [],
   "source": [
    "def convert_to_vw(dataframe_row, train_param = True):\n",
    "    \n",
    "    word_pattern = re.compile(r\"[0-9A-zА-яё_]+\")\n",
    "    \n",
    "    n_matches_in_q = dataframe_row.n_matches_in_q\n",
    "    n_matches_in_params = dataframe_row.n_matches_in_params\n",
    "    avg_ctr_of_user = dataframe_row.avg_ctr_of_user\n",
    "    title_length = dataframe_row.title_length\n",
    "    user_search_count = dataframe_row.user_search_count\n",
    "    has_query = dataframe_row.has_query\n",
    "    \n",
    "    raw_parsed_params = dataframe_row.parsed_params\n",
    "    if raw_parsed_params:\n",
    "        words = [match.group(0) for match in re.finditer(word_pattern, raw_parsed_params)]\n",
    "        parsed_params = ' '.join(words)\n",
    "    if not raw_parsed_params:\n",
    "        parsed_params = None\n",
    "    \n",
    "    raw_prev_parsed_params = dataframe_row.prev_parsed_params\n",
    "    if raw_prev_parsed_params:\n",
    "        words = [match.group(0) for match in re.finditer(word_pattern, raw_prev_parsed_params)]\n",
    "        prev_parsed_params = ' '.join(words)\n",
    "    if not raw_prev_parsed_params:\n",
    "        prev_parsed_params = None\n",
    "    \n",
    "    Position = dataframe_row.Position\n",
    "    HistCTR = dataframe_row.HistCTR\n",
    "    IsUserLoggedOn = dataframe_row.IsUserLoggedOn\n",
    "    LocationID = dataframe_row.LocationID\n",
    "    CategoryID = dataframe_row.CategoryID\n",
    "    add_price_session_ratio = dataframe_row.add_price_session_ratio\n",
    "    weekday_encoded = dataframe_row.weekday_encoded\n",
    "    is_evening = dataframe_row.is_evening\n",
    "    is_morning = dataframe_row.is_morning\n",
    "    UserID = dataframe_row.UserID\n",
    "    \n",
    "    if train_param:\n",
    "        target = 1 if dataframe_row.IsClick == 1 else -1\n",
    "    else:\n",
    "        target = 0\n",
    "    \n",
    "    template_tr = f\"{target} |a n_matches_in_q:{n_matches_in_q} |b n_matches_in_params:{n_matches_in_params} |c avg_ctr_of_user:{avg_ctr_of_user} |d title_length:{title_length} |e user_search_count:{user_search_count} |f {has_query} |g {parsed_params} |h {prev_parsed_params} |i {Position} |j HistCTR:{HistCTR} |k {IsUserLoggedOn} |l {LocationID} |m {CategoryID} |n add_price_session_ratio:{add_price_session_ratio} |o {weekday_encoded} |p {is_evening} |q {is_morning} |s {UserID}\"\n",
    "    template_kaggle = f\"|a n_matches_in_q:{n_matches_in_q} |b n_matches_in_params:{n_matches_in_params} |c avg_ctr_of_user:{avg_ctr_of_user} |d title_length:{title_length} |e user_search_count:{user_search_count} |f {has_query} |g {parsed_params} |h {prev_parsed_params} |i {Position} |j HistCTR:{HistCTR} |k {IsUserLoggedOn} |l {LocationID} |m {CategoryID} |n add_price_session_ratio:{add_price_session_ratio} |o {weekday_encoded} |p {is_evening} |q {is_morning} |s {UserID}\"\n",
    "    \n",
    "    if train_param == True:\n",
    "        return template_tr\n",
    "    else:\n",
    "        return template_kaggle\n",
    "    \n",
    "def write_vw(filename, data_gen, tr_param = True):\n",
    "    with open(filename, 'w') as f:\n",
    "        for row in data_gen:\n",
    "             f.write(convert_to_vw(row, tr_param) + '\\n')"
   ]
  },
  {
   "cell_type": "code",
   "execution_count": null,
   "id": "49118623",
   "metadata": {},
   "outputs": [],
   "source": []
  },
  {
   "cell_type": "code",
   "execution_count": 224,
   "id": "b8ee2064",
   "metadata": {},
   "outputs": [
    {
     "name": "stdout",
     "output_type": "stream",
     "text": [
      "CPU times: user 18min 37s, sys: 10.2 s, total: 18min 47s\n",
      "Wall time: 21min 43s\n"
     ]
    }
   ],
   "source": [
    "%%time\n",
    "data_gen = train_1.rdd.toLocalIterator()\n",
    "write_vw('train_1.vw', data_gen, tr_param = True)"
   ]
  },
  {
   "cell_type": "code",
   "execution_count": 225,
   "id": "232d31bf",
   "metadata": {},
   "outputs": [
    {
     "name": "stdout",
     "output_type": "stream",
     "text": [
      "CPU times: user 2min 4s, sys: 1.13 s, total: 2min 5s\n",
      "Wall time: 2min 25s\n"
     ]
    }
   ],
   "source": [
    "%%time\n",
    "data_gen = local_test_1.rdd.toLocalIterator()\n",
    "write_vw('local_test_1.vw', data_gen, tr_param = True)"
   ]
  },
  {
   "cell_type": "code",
   "execution_count": 226,
   "id": "40fece7b",
   "metadata": {},
   "outputs": [
    {
     "name": "stdout",
     "output_type": "stream",
     "text": [
      "CPU times: user 4min 6s, sys: 1.98 s, total: 4min 8s\n",
      "Wall time: 4min 46s\n"
     ]
    }
   ],
   "source": [
    "%%time\n",
    "data_gen = kaggle_test.rdd.toLocalIterator()\n",
    "write_vw('kaggle_test.vw', data_gen, tr_param = False)"
   ]
  },
  {
   "cell_type": "code",
   "execution_count": null,
   "id": "f73216bf",
   "metadata": {},
   "outputs": [],
   "source": []
  },
  {
   "cell_type": "code",
   "execution_count": 227,
   "id": "4a5d5e62",
   "metadata": {},
   "outputs": [
    {
     "name": "stdout",
     "output_type": "stream",
     "text": [
      "-1 |a n_matches_in_q:0 |b n_matches_in_params:0 |c avg_ctr_of_user:1e-05 |d title_length:3 |e user_search_count:1 |f 1 |g топы и футболки женская одежда |h no |i 1 |j HistCTR:1e-05 |k 1 |l 3960 |m 22 |n add_price_session_ratio:1.0 |o 5 |p 0 |q 0 |s 3009809\r\n",
      "-1 |a n_matches_in_q:0 |b n_matches_in_params:0 |c avg_ctr_of_user:1e-05 |d title_length:4 |e user_search_count:1 |f 1 |g обувь женская одежда |h no |i 1 |j HistCTR:1e-05 |k 1 |l 2840 |m 0 |n add_price_session_ratio:1.0 |o 2 |p 1 |q 0 |s 3232637\r\n",
      "cat: write error: Broken pipe\r\n"
     ]
    }
   ],
   "source": [
    "! cat train_1.vw | head -n2"
   ]
  },
  {
   "cell_type": "markdown",
   "id": "04a9cab0",
   "metadata": {},
   "source": [
    "## Обучение"
   ]
  },
  {
   "cell_type": "code",
   "execution_count": 228,
   "id": "3b5ef0d4",
   "metadata": {},
   "outputs": [
    {
     "name": "stdout",
     "output_type": "stream",
     "text": [
      "creating features for following interactions: ab \n",
      "final_regressor = model_4.bin\n",
      "Num weight bits = 23\n",
      "learning rate = 10\n",
      "initial_t = 0\n",
      "power_t = 0.5\n",
      "decay_learning_rate = 1\n",
      "creating cache_file = train_1.vw.cache\n",
      "Reading datafile = train_1.vw\n",
      "num sources = 1\n",
      "Enabled reductions: gd, scorer\n",
      "average  since         example        example  current  current  current\n",
      "loss     last          counter         weight    label  predict features\n",
      "0.693147 0.693147            1            1.0  -1.0000   0.0000       21\n",
      "0.374858 0.056568            2            2.0  -1.0000  -2.8439       19\n",
      "0.196540 0.018223            4            4.0  -1.0000  -4.6679       21\n",
      "0.100109 0.003678            8            8.0  -1.0000  -5.4339       21\n",
      "0.050544 0.000978           16           16.0  -1.0000  -8.5309       21\n",
      "0.025396 0.000248           32           32.0  -1.0000  -9.1389       19\n",
      "0.013024 0.000651           64           64.0  -1.0000  -6.4689       17\n",
      "0.006648 0.000272          128          128.0  -1.0000 -11.0642       17\n",
      "0.122936 0.239225          256          256.0  -1.0000  -6.8863       20\n",
      "0.080018 0.037100          512          512.0  -1.0000 -10.4129       19\n",
      "0.080704 0.081390         1024         1024.0  -1.0000  -9.4960       19\n",
      "0.061494 0.042285         2048         2048.0  -1.0000 -13.8640       19\n",
      "0.039321 0.017147         4096         4096.0  -1.0000  -9.7930       20\n",
      "0.037127 0.034933         8192         8192.0  -1.0000 -13.4792       17\n",
      "0.040002 0.042877        16384        16384.0  -1.0000  -4.2379       19\n",
      "0.037656 0.035310        32768        32768.0  -1.0000 -14.8415       22\n",
      "0.040301 0.042947        65536        65536.0  -1.0000  -6.8717       19\n",
      "0.044226 0.048150       131072       131072.0  -1.0000  -8.0849       19\n",
      "0.047890 0.051553       262144       262144.0  -1.0000  -6.7168       18\n",
      "0.052663 0.057435       524288       524288.0  -1.0000  -7.3851       20\n",
      "0.048523 0.044383      1048576      1048576.0  -1.0000 -10.3869       18\n",
      "0.040393 0.032264      2097152      2097152.0  -1.0000 -14.3732       29\n",
      "0.041551 0.042710      4194304      4194304.0  -1.0000  -5.1237       20\n",
      "0.039702 0.037853      8388608      8388608.0  -1.0000  -8.3532       21\n",
      "0.039433 0.039165     16777216     16777216.0  -1.0000  -3.2829       28\n",
      "0.038954 0.038954     33554432     33554432.0  -1.0000  -6.7649       19 h\n",
      "0.039817 0.040680     67108864     67108864.0  -1.0000 -10.6028       21 h\n",
      "\n",
      "finished run\n",
      "number of examples per pass = 30780810\n",
      "passes used = 4\n",
      "weighted example sum = 123123240.000000\n",
      "weighted label sum = -121688952.000000\n",
      "average loss = 0.038765 h\n",
      "best constant = -5.139823\n",
      "best constant's loss = 0.035779\n",
      "total feature number = 2624609792\n",
      "CPU times: user 1min 6s, sys: 9 s, total: 1min 15s\n",
      "Wall time: 1h 18min 16s\n"
     ]
    }
   ],
   "source": [
    "%%time\n",
    "\n",
    "! vw --final_regressor model_4.bin train_1.vw \\\n",
    "    --loss_function logistic \\\n",
    "    --learning_rate 10.0 \\\n",
    "    --bit_precision 23 \\\n",
    "    --passes 20 \\\n",
    "    --interactions ab \\\n",
    "    --cache -k"
   ]
  },
  {
   "cell_type": "code",
   "execution_count": 231,
   "id": "c54ae12b",
   "metadata": {},
   "outputs": [
    {
     "name": "stdout",
     "output_type": "stream",
     "text": [
      "creating features for following interactions: ab \n",
      "only testing\n",
      "predictions = sample_preds.txt\n",
      "Num weight bits = 23\n",
      "learning rate = 0.5\n",
      "initial_t = 0\n",
      "power_t = 0.5\n",
      "using no cache\n",
      "Reading datafile = local_test_1.vw\n",
      "num sources = 1\n",
      "Enabled reductions: gd, scorer\n",
      "average  since         example        example  current  current  current\n",
      "loss     last          counter         weight    label  predict features\n",
      "13.652085 13.652085            1            1.0  -1.0000   0.0091       19\n",
      "10.356483 7.060881            2            2.0  -1.0000   0.0252       21\n",
      "11.662575 12.968668            4            4.0  -1.0000   0.0100       21\n",
      "18.547377 25.432179            8            8.0  -1.0000   0.0067       19\n",
      "24.138208 29.729039           16           16.0  -1.0000   0.0020       19\n",
      "22.485140 20.832072           32           32.0  -1.0000   0.0097       19\n",
      "22.464313 22.443485           64           64.0  -1.0000   0.0077       17\n",
      "23.186533 23.908754          128          128.0  -1.0000   0.0031       17\n",
      "29.963001 36.739469          256          256.0  -1.0000   0.0014       19\n",
      "33.605065 37.247130          512          512.0  -1.0000   0.0001       17\n",
      "42.725733 51.846401         1024         1024.0  -1.0000   0.0010       19\n",
      "50.154748 57.583763         2048         2048.0  -1.0000   0.0021       21\n",
      "52.517064 54.879380         4096         4096.0  -1.0000   0.0000       17\n",
      "56.413240 60.309416         8192         8192.0  -1.0000   0.0002       18\n",
      "62.979515 69.545791        16384        16384.0  -1.0000   0.0000       17\n",
      "66.085092 69.190668        32768        32768.0  -1.0000   0.0000       20\n",
      "65.722785 65.360478        65536        65536.0  -1.0000   0.0050       24\n",
      "64.556094 63.389403       131072       131072.0  -1.0000   0.0009       23\n",
      "63.971548 63.387002       262144       262144.0  -1.0000   0.0001       28\n",
      "59.553460 55.135372       524288       524288.0  -1.0000   0.0002       20\n",
      "55.293527 51.033594      1048576      1048576.0  -1.0000   0.0009       19\n",
      "53.186065 51.078603      2097152      2097152.0  -1.0000   0.0099       18\n",
      "\n",
      "finished run\n",
      "number of examples = 3799101\n",
      "weighted example sum = 3799101.000000\n",
      "weighted label sum = -3755001.000000\n",
      "average loss = 51.703004\n",
      "best constant = -0.988392\n",
      "best constant's loss = 0.023081\n",
      "total feature number = 80985683\n",
      "CPU times: user 2.14 s, sys: 264 ms, total: 2.4 s\n",
      "Wall time: 2min 29s\n"
     ]
    }
   ],
   "source": [
    "%%time\n",
    "\n",
    "! vw local_test_1.vw \\\n",
    "    --link=logistic \\\n",
    "    --testonly \\\n",
    "    --initial_regressor model_4.bin \\\n",
    "    --predictions sample_preds.txt"
   ]
  },
  {
   "cell_type": "code",
   "execution_count": 464,
   "id": "ae8ac060",
   "metadata": {},
   "outputs": [
    {
     "name": "stdout",
     "output_type": "stream",
     "text": [
      "0.009059\r\n",
      "0.025155\r\n",
      "0.009877\r\n",
      "0.010003\r\n",
      "0.010410\r\n",
      "0.000433\r\n",
      "0.001906\r\n",
      "0.006749\r\n",
      "0.000137\r\n",
      "0.005261\r\n",
      "cat: write error: Broken pipe\r\n"
     ]
    }
   ],
   "source": [
    "! cat sample_preds.txt | head"
   ]
  },
  {
   "cell_type": "markdown",
   "id": "0ac861e2",
   "metadata": {},
   "source": [
    "#### Предсказываем классы"
   ]
  },
  {
   "cell_type": "code",
   "execution_count": 463,
   "id": "94b5a155",
   "metadata": {},
   "outputs": [
    {
     "name": "stdout",
     "output_type": "stream",
     "text": [
      "creating features for following interactions: ab \n",
      "only testing\n",
      "predictions = sample_preds_binary.txt\n",
      "Num weight bits = 23\n",
      "learning rate = 0.5\n",
      "initial_t = 0\n",
      "power_t = 0.5\n",
      "using no cache\n",
      "Reading datafile = local_test_1.vw\n",
      "num sources = 1\n",
      "Enabled reductions: gd, scorer, binary\n",
      "average  since         example        example  current  current  current\n",
      "loss     last          counter         weight    label  predict features\n",
      "0.000000 0.000000            1            1.0  -1.0000  -1.0000       19\n",
      "0.000000 0.000000            2            2.0  -1.0000  -1.0000       21\n",
      "0.000000 0.000000            4            4.0  -1.0000  -1.0000       21\n",
      "0.000000 0.000000            8            8.0  -1.0000  -1.0000       19\n",
      "0.000000 0.000000           16           16.0  -1.0000  -1.0000       19\n",
      "0.000000 0.000000           32           32.0  -1.0000  -1.0000       19\n",
      "0.015625 0.031250           64           64.0  -1.0000  -1.0000       17\n",
      "0.015625 0.015625          128          128.0  -1.0000  -1.0000       17\n",
      "0.007812 0.000000          256          256.0  -1.0000  -1.0000       19\n",
      "0.005859 0.003906          512          512.0  -1.0000  -1.0000       17\n",
      "0.003906 0.001953         1024         1024.0  -1.0000  -1.0000       19\n",
      "0.002441 0.000977         2048         2048.0  -1.0000  -1.0000       21\n",
      "0.002930 0.003418         4096         4096.0  -1.0000  -1.0000       17\n",
      "0.003906 0.004883         8192         8192.0  -1.0000  -1.0000       18\n",
      "0.004578 0.005249        16384        16384.0  -1.0000  -1.0000       17\n",
      "0.005005 0.005432        32768        32768.0  -1.0000  -1.0000       20\n",
      "0.006561 0.008118        65536        65536.0  -1.0000  -1.0000       24\n",
      "0.006294 0.006027       131072       131072.0  -1.0000  -1.0000       23\n",
      "0.005260 0.004227       262144       262144.0  -1.0000  -1.0000       28\n",
      "0.005968 0.006676       524288       524288.0  -1.0000  -1.0000       20\n",
      "0.005901 0.005835      1048576      1048576.0  -1.0000  -1.0000       19\n",
      "0.006154 0.006407      2097152      2097152.0  -1.0000  -1.0000       18\n",
      "\n",
      "finished run\n",
      "number of examples = 3799101\n",
      "weighted example sum = 3799101.000000\n",
      "weighted label sum = -3755001.000000\n",
      "average loss = 0.006074\n",
      "best constant = -0.988392\n",
      "best constant's loss = 0.023081\n",
      "total feature number = 80985683\n",
      "CPU times: user 1.72 s, sys: 203 ms, total: 1.92 s\n",
      "Wall time: 1min 58s\n"
     ]
    }
   ],
   "source": [
    "%%time\n",
    "\n",
    "! vw local_test_1.vw \\\n",
    "    --binary \\\n",
    "    --testonly \\\n",
    "    --initial_regressor model_4.bin \\\n",
    "    --predictions sample_preds_binary.txt"
   ]
  },
  {
   "cell_type": "code",
   "execution_count": 465,
   "id": "ad511b49",
   "metadata": {},
   "outputs": [
    {
     "name": "stdout",
     "output_type": "stream",
     "text": [
      "-1\r\n",
      "-1\r\n",
      "-1\r\n",
      "-1\r\n",
      "-1\r\n",
      "-1\r\n",
      "-1\r\n",
      "-1\r\n",
      "-1\r\n",
      "-1\r\n",
      "cat: write error: Broken pipe\r\n"
     ]
    }
   ],
   "source": [
    "! cat sample_preds_binary.txt | head "
   ]
  },
  {
   "cell_type": "code",
   "execution_count": null,
   "id": "cf65b1d1",
   "metadata": {},
   "outputs": [],
   "source": []
  },
  {
   "cell_type": "markdown",
   "id": "dce6a703",
   "metadata": {},
   "source": [
    "### Считаем метрики качества"
   ]
  },
  {
   "cell_type": "code",
   "execution_count": 433,
   "id": "20cdd430",
   "metadata": {},
   "outputs": [],
   "source": [
    "y_true = se.sql(\"\"\"\n",
    "SELECT IsClick\n",
    "FROM local_test_1\n",
    "\"\"\")\n",
    "df_true = y_true.toPandas()"
   ]
  },
  {
   "cell_type": "code",
   "execution_count": 484,
   "id": "613e9070",
   "metadata": {},
   "outputs": [
    {
     "data": {
      "text/html": [
       "<div>\n",
       "<style scoped>\n",
       "    .dataframe tbody tr th:only-of-type {\n",
       "        vertical-align: middle;\n",
       "    }\n",
       "\n",
       "    .dataframe tbody tr th {\n",
       "        vertical-align: top;\n",
       "    }\n",
       "\n",
       "    .dataframe thead th {\n",
       "        text-align: right;\n",
       "    }\n",
       "</style>\n",
       "<table border=\"1\" class=\"dataframe\">\n",
       "  <thead>\n",
       "    <tr style=\"text-align: right;\">\n",
       "      <th></th>\n",
       "      <th>IsClick</th>\n",
       "    </tr>\n",
       "  </thead>\n",
       "  <tbody>\n",
       "    <tr>\n",
       "      <th>0</th>\n",
       "      <td>0</td>\n",
       "    </tr>\n",
       "    <tr>\n",
       "      <th>1</th>\n",
       "      <td>0</td>\n",
       "    </tr>\n",
       "  </tbody>\n",
       "</table>\n",
       "</div>"
      ],
      "text/plain": [
       "   IsClick\n",
       "0        0\n",
       "1        0"
      ]
     },
     "execution_count": 484,
     "metadata": {},
     "output_type": "execute_result"
    }
   ],
   "source": [
    "df_true.head(2)"
   ]
  },
  {
   "cell_type": "code",
   "execution_count": 485,
   "id": "3e247c26",
   "metadata": {},
   "outputs": [
    {
     "data": {
      "text/html": [
       "<div>\n",
       "<style scoped>\n",
       "    .dataframe tbody tr th:only-of-type {\n",
       "        vertical-align: middle;\n",
       "    }\n",
       "\n",
       "    .dataframe tbody tr th {\n",
       "        vertical-align: top;\n",
       "    }\n",
       "\n",
       "    .dataframe thead th {\n",
       "        text-align: right;\n",
       "    }\n",
       "</style>\n",
       "<table border=\"1\" class=\"dataframe\">\n",
       "  <thead>\n",
       "    <tr style=\"text-align: right;\">\n",
       "      <th></th>\n",
       "      <th>y_pred</th>\n",
       "    </tr>\n",
       "  </thead>\n",
       "  <tbody>\n",
       "    <tr>\n",
       "      <th>0</th>\n",
       "      <td>-1</td>\n",
       "    </tr>\n",
       "    <tr>\n",
       "      <th>1</th>\n",
       "      <td>-1</td>\n",
       "    </tr>\n",
       "  </tbody>\n",
       "</table>\n",
       "</div>"
      ],
      "text/plain": [
       "   y_pred\n",
       "0      -1\n",
       "1      -1"
      ]
     },
     "execution_count": 485,
     "metadata": {},
     "output_type": "execute_result"
    }
   ],
   "source": [
    "df_pred_binary.head(2)"
   ]
  },
  {
   "cell_type": "code",
   "execution_count": 480,
   "id": "a4ed36f6",
   "metadata": {},
   "outputs": [],
   "source": [
    "df_pred = pd.read_csv('sample_preds.txt', header=None)\n",
    "df_pred_binary = pd.read_csv('sample_preds_binary.txt', header=None)\n",
    "\n",
    "df_pred = df_pred.rename(columns = {0: 'pred_prob'})\n",
    "df_pred_binary = df_pred_binary.rename(columns={0:'y_pred'})\n",
    "\n",
    "df_pred['y_true'] = df_true['IsClick']\n",
    "df_pred['y_pred'] = df_pred_binary['y_pred']\n",
    "df_pred.loc[df_pred['y_pred'] < 0, 'y_pred'] = 0"
   ]
  },
  {
   "cell_type": "code",
   "execution_count": 487,
   "id": "e78a68b3",
   "metadata": {},
   "outputs": [
    {
     "data": {
      "text/html": [
       "<div>\n",
       "<style scoped>\n",
       "    .dataframe tbody tr th:only-of-type {\n",
       "        vertical-align: middle;\n",
       "    }\n",
       "\n",
       "    .dataframe tbody tr th {\n",
       "        vertical-align: top;\n",
       "    }\n",
       "\n",
       "    .dataframe thead th {\n",
       "        text-align: right;\n",
       "    }\n",
       "</style>\n",
       "<table border=\"1\" class=\"dataframe\">\n",
       "  <thead>\n",
       "    <tr style=\"text-align: right;\">\n",
       "      <th></th>\n",
       "      <th>pred_prob</th>\n",
       "      <th>y_true</th>\n",
       "      <th>y_pred</th>\n",
       "    </tr>\n",
       "  </thead>\n",
       "  <tbody>\n",
       "    <tr>\n",
       "      <th>0</th>\n",
       "      <td>0.009059</td>\n",
       "      <td>0</td>\n",
       "      <td>0</td>\n",
       "    </tr>\n",
       "    <tr>\n",
       "      <th>1</th>\n",
       "      <td>0.025155</td>\n",
       "      <td>0</td>\n",
       "      <td>0</td>\n",
       "    </tr>\n",
       "  </tbody>\n",
       "</table>\n",
       "</div>"
      ],
      "text/plain": [
       "   pred_prob  y_true  y_pred\n",
       "0   0.009059       0       0\n",
       "1   0.025155       0       0"
      ]
     },
     "execution_count": 487,
     "metadata": {},
     "output_type": "execute_result"
    }
   ],
   "source": [
    "df_pred.head(2)"
   ]
  },
  {
   "cell_type": "code",
   "execution_count": 483,
   "id": "3873a937",
   "metadata": {},
   "outputs": [
    {
     "name": "stdout",
     "output_type": "stream",
     "text": [
      "log_loss: 0.04178362889996407\n",
      "accuracy: 0.9939261946444699\n",
      "precision: 0.03451407811080836\n",
      "recall: 0.0017233560090702948\n"
     ]
    }
   ],
   "source": [
    "from sklearn.metrics import log_loss\n",
    "from sklearn.metrics import accuracy_score\n",
    "from sklearn.metrics import precision_score\n",
    "from sklearn.metrics import recall_score\n",
    "\n",
    "print('log_loss:', log_loss(df_pred['y_true'], df_pred['pred_prob']))\n",
    "print('accuracy:', accuracy_score(df_pred['y_true'], df_pred['y_pred']))\n",
    "print('precision:', precision_score(df_pred['y_true'], df_pred['y_pred']))\n",
    "print('recall:', recall_score(df_pred['y_true'], df_pred['y_pred']))"
   ]
  },
  {
   "cell_type": "code",
   "execution_count": null,
   "id": "bd6f6cab",
   "metadata": {},
   "outputs": [],
   "source": []
  },
  {
   "cell_type": "markdown",
   "id": "4a5c7d23",
   "metadata": {},
   "source": [
    "### Предсказания для kaggle"
   ]
  },
  {
   "cell_type": "code",
   "execution_count": 230,
   "id": "df5dc9ae",
   "metadata": {},
   "outputs": [
    {
     "name": "stdout",
     "output_type": "stream",
     "text": [
      "creating features for following interactions: ab \n",
      "only testing\n",
      "predictions = hw3_small_pred_kaggle.txt\n",
      "Num weight bits = 23\n",
      "learning rate = 0.5\n",
      "initial_t = 0\n",
      "power_t = 0.5\n",
      "using no cache\n",
      "Reading datafile = kaggle_test.vw\n",
      "num sources = 1\n",
      "Enabled reductions: gd, scorer\n",
      "average  since         example        example  current  current  current\n",
      "loss     last          counter         weight    label  predict features\n",
      "    n.a.     n.a.            1            1.0  unknown   0.0349       17\n",
      "    n.a.     n.a.            2            2.0  unknown   0.0327       19\n",
      "    n.a.     n.a.            4            4.0  unknown   0.0091       18\n",
      "    n.a.     n.a.            8            8.0  unknown   0.0221       20\n",
      "    n.a.     n.a.           16           16.0  unknown   0.0001       17\n",
      "    n.a.     n.a.           32           32.0  unknown   0.0003       17\n",
      "    n.a.     n.a.           64           64.0  unknown   0.0039       17\n",
      "    n.a.     n.a.          128          128.0  unknown   0.0157       20\n",
      "    n.a.     n.a.          256          256.0  unknown   0.0053       19\n",
      "    n.a.     n.a.          512          512.0  unknown   0.0004       17\n",
      "    n.a.     n.a.         1024         1024.0  unknown   0.0355       20\n",
      "    n.a.     n.a.         2048         2048.0  unknown   0.0001       22\n",
      "    n.a.     n.a.         4096         4096.0  unknown   0.0007       23\n",
      "    n.a.     n.a.         8192         8192.0  unknown   0.0024       20\n",
      "    n.a.     n.a.        16384        16384.0  unknown   0.0151       20\n",
      "    n.a.     n.a.        32768        32768.0  unknown   0.0044       19\n",
      "    n.a.     n.a.        65536        65536.0  unknown   0.0236       22\n",
      "    n.a.     n.a.       131072       131072.0  unknown   0.0002       19\n",
      "    n.a.     n.a.       262144       262144.0  unknown   0.0029       18\n",
      "    n.a.     n.a.       524288       524288.0  unknown   0.0005       19\n",
      "    n.a.     n.a.      1048576      1048576.0  unknown   0.0825       24\n",
      "    n.a.     n.a.      2097152      2097152.0  unknown   0.0018       25\n",
      "    n.a.     n.a.      4194304      4194304.0  unknown   0.0000       20\n",
      "\n",
      "finished run\n",
      "number of examples = 7816361\n",
      "weighted example sum = 7816361.000000\n",
      "weighted label sum = 0.000000\n",
      "average loss = n.a.\n",
      "total feature number = 152792173\n",
      "CPU times: user 736 ms, sys: 58.8 ms, total: 795 ms\n",
      "Wall time: 50.8 s\n"
     ]
    }
   ],
   "source": [
    "%%time\n",
    "\n",
    "! vw kaggle_test.vw \\\n",
    "    --link=logistic \\\n",
    "    --testonly \\\n",
    "    --initial_regressor model_4.bin \\\n",
    "    --predictions hw3_small_pred_kaggle.txt"
   ]
  },
  {
   "cell_type": "code",
   "execution_count": null,
   "id": "74254c1b",
   "metadata": {},
   "outputs": [],
   "source": []
  },
  {
   "cell_type": "code",
   "execution_count": 233,
   "id": "39633391",
   "metadata": {},
   "outputs": [
    {
     "name": "stdout",
     "output_type": "stream",
     "text": [
      "0.034904\r\n",
      "0.032732\r\n",
      "0.008199\r\n",
      "0.009051\r\n",
      "0.000060\r\n",
      "0.000113\r\n",
      "0.017932\r\n",
      "0.022103\r\n",
      "0.001113\r\n",
      "0.001657\r\n",
      "cat: write error: Broken pipe\r\n"
     ]
    }
   ],
   "source": [
    "! cat hw3_small_pred_kaggle.txt | head"
   ]
  },
  {
   "cell_type": "markdown",
   "id": "56dc76a5",
   "metadata": {},
   "source": [
    "### Переводим из vw под формат kagglle"
   ]
  },
  {
   "cell_type": "code",
   "execution_count": 235,
   "id": "13d82d5a",
   "metadata": {},
   "outputs": [
    {
     "name": "stdout",
     "output_type": "stream",
     "text": [
      "Overwriting converter.py\n"
     ]
    }
   ],
   "source": [
    "%%writefile converter.py\n",
    "import sys\n",
    "import csv\n",
    "import re\n",
    "\n",
    "def inference_txt_reader():\n",
    "    pattern = re.compile(r'[-+]?(?:\\d*\\.*\\d+)')\n",
    "    \n",
    "    print('IsClick')\n",
    "    i = 1\n",
    "    for line in sys.stdin:\n",
    "        match = re.findall(pattern, line)\n",
    "        print(\"{}\".format(match[0]))\n",
    "        i += 1\n",
    "    \n",
    "if __name__ == '__main__':\n",
    "    command = sys.argv[1]    \n",
    "    {\n",
    "        'inference_txt_reader': inference_txt_reader\n",
    "    }[command]()"
   ]
  },
  {
   "cell_type": "code",
   "execution_count": 236,
   "id": "5b29b407",
   "metadata": {},
   "outputs": [],
   "source": [
    "! cat hw3_small_pred_kaggle.txt | python converter.py inference_txt_reader > submission_prep.csv"
   ]
  },
  {
   "cell_type": "code",
   "execution_count": 237,
   "id": "d722f584",
   "metadata": {},
   "outputs": [
    {
     "name": "stdout",
     "output_type": "stream",
     "text": [
      "IsClick\r\n",
      "0.034904\r\n",
      "0.032732\r\n",
      "0.008199\r\n",
      "0.009051\r\n",
      "0.000060\r\n",
      "0.000113\r\n",
      "0.017932\r\n",
      "0.022103\r\n",
      "0.001113\r\n",
      "cat: write error: Broken pipe\r\n"
     ]
    }
   ],
   "source": [
    "! cat submission_prep.csv | head "
   ]
  },
  {
   "cell_type": "code",
   "execution_count": 239,
   "id": "c233fad2",
   "metadata": {},
   "outputs": [],
   "source": [
    "q = se.sql(\"\"\"\n",
    "SELECT ID\n",
    "FROM testSearchStream\n",
    "WHERE ObjectType = 3\n",
    "\"\"\")\n",
    "df_ids = q.toPandas()"
   ]
  },
  {
   "cell_type": "code",
   "execution_count": 240,
   "id": "69c822db",
   "metadata": {},
   "outputs": [
    {
     "data": {
      "text/plain": [
       "(7816361, 1)"
      ]
     },
     "execution_count": 240,
     "metadata": {},
     "output_type": "execute_result"
    }
   ],
   "source": [
    "df_ids.shape"
   ]
  },
  {
   "cell_type": "code",
   "execution_count": 242,
   "id": "9524e019",
   "metadata": {},
   "outputs": [],
   "source": [
    "df_s = pd.read_csv('submission_prep.csv')\n",
    "\n",
    "df_s['ID'] = df_ids['ID']\n",
    "\n",
    "df_s = df_s[['ID', 'IsClick']]\n",
    "\n",
    "df_s.to_csv('submission.csv', index=False)"
   ]
  },
  {
   "cell_type": "code",
   "execution_count": 246,
   "id": "da844412",
   "metadata": {},
   "outputs": [
    {
     "name": "stdout",
     "output_type": "stream",
     "text": [
      "Warning: Looks like you're using an outdated API Version, please consider updating (server 1.6.7 / client 1.6.6)\n",
      "100%|████████████████████████████████████████| 127M/127M [00:04<00:00, 27.2MB/s]\n",
      "Successfully submitted to Avito Context Ad Clicks"
     ]
    }
   ],
   "source": [
    "! kaggle competitions submit -c avito-context-ad-clicks -f submission.csv -m \"Message1\""
   ]
  },
  {
   "cell_type": "markdown",
   "id": "012972f0",
   "metadata": {},
   "source": [
    "Скриншот со скором из kaggle"
   ]
  },
  {
   "cell_type": "markdown",
   "id": "dff74630",
   "metadata": {},
   "source": [
    "<img src=\"https://i.imgur.com/OkSXmGx.png\" alt=\"Alternative text\" />"
   ]
  },
  {
   "cell_type": "markdown",
   "id": "9be30ec4",
   "metadata": {},
   "source": [
    "<img src=\"https://i.imgur.com/tZq7yrs.png\" alt=\"Alternative text\" />"
   ]
  },
  {
   "cell_type": "code",
   "execution_count": null,
   "id": "f39ba277",
   "metadata": {},
   "outputs": [],
   "source": []
  },
  {
   "cell_type": "code",
   "execution_count": null,
   "id": "677cba14",
   "metadata": {},
   "outputs": [],
   "source": []
  }
 ],
 "metadata": {
  "kernelspec": {
   "display_name": "Python 3",
   "language": "python",
   "name": "python3"
  },
  "language_info": {
   "codemirror_mode": {
    "name": "ipython",
    "version": 3
   },
   "file_extension": ".py",
   "mimetype": "text/x-python",
   "name": "python",
   "nbconvert_exporter": "python",
   "pygments_lexer": "ipython3",
   "version": "3.8.10"
  }
 },
 "nbformat": 4,
 "nbformat_minor": 5
}
